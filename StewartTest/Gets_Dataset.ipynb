{
 "cells": [
  {
   "cell_type": "code",
   "execution_count": 76,
   "metadata": {},
   "outputs": [],
   "source": [
    "import sys\n",
    "\n",
    "sys.path.append(sys.path[0].replace('StewartTest','StewartLibrary'))\n",
    "\n",
    "import main_Stuart as ms\n",
    "\n",
    "import main_functions_Stewart_platform as mf\n",
    "\n",
    "import numpy as np\n",
    "\n",
    "import pandas as pd\n",
    "\n",
    "import torch\n",
    "\n",
    "from torch import nn\n",
    "\n",
    "import torch.nn.functional as F\n",
    "\n",
    "from tqdm import tqdm\n",
    "\n",
    "import matplotlib.pyplot as plt"
   ]
  },
  {
   "cell_type": "code",
   "execution_count": 77,
   "metadata": {},
   "outputs": [],
   "source": [
    "# Класс для оставляния датасета внутри класса\n",
    "# решить вопрос с инициализацией, тк нельзя в инициализации возвращать что либо.\n",
    "class Model_Stuart_from_model():\n",
    "\n",
    "    def __init__(self, model, n):\n",
    "        # Создание модели стюарта\n",
    "        self.model = model\n",
    "        # Сохранение результатов\n",
    "        self.results = np.array([])\n",
    "        # Сохранение промежуточных результатов\n",
    "        self.intermediate_result = np.array([])\n",
    "        # Создание цикла для формирования датасета\n",
    "        size = n\n",
    "        while n != 0:\n",
    "            # Генерация перемещений\n",
    "            coordinates = (np.random.rand(\n",
    "                3)*self.model.max_len)-self.model.max_len/2\n",
    "            # Генерация углов поворота\n",
    "            angle = 90*np.random.rand(3)\n",
    "            # Сохранение координат верхней платформы\n",
    "            self.model.change_of_position_upper_platform(alfa=angle[0], betta=angle[1], gamma=angle[2],\n",
    "\n",
    "                                                         x=coordinates[0], y=coordinates[1], z=coordinates[2])\n",
    "            # Расчитываем углы\n",
    "            self.model.angle()\n",
    "            # Расчитываем длинны\n",
    "            self.model.len_leg()\n",
    "\n",
    "            if sum(self.model.test_lens) == 6 and sum(sum(self.model.test_angle)) == 12:\n",
    "\n",
    "                self.intermediate_result = np.concatenate(\n",
    "                    (np.concatenate((angle, coordinates)), self.model.len))\n",
    "\n",
    "                self.intermediate_result = self.intermediate_result.reshape(\n",
    "                    1, -1)\n",
    "\n",
    "                self.results = np.append(\n",
    "                    self.results, self.intermediate_result)\n",
    "\n",
    "                n -= 1\n",
    "\n",
    "            else:\n",
    "                print('Длинны ног', self.model.len, self.model.test_lens, 'Углы наклона ног',\n",
    "                      self.model.angle_lens, self.model.test_angle, '--------------------', sep='\\n')\n",
    "                self.model.coordinates_upper_platform = mf.calculation_new_coordinates(\n",
    "                    self.model._Stuart__inv_matrix, self.model.coordinates_upper_platform).reshape(-1, 3)\n",
    "\n",
    "        self.results = self.results.reshape(size, -1)\n"
   ]
  },
  {
   "cell_type": "code",
   "execution_count": 78,
   "metadata": {},
   "outputs": [],
   "source": [
    "# Класс для выведения датасета как переменной\n",
    "class Model_Stuart():\n",
    "\n",
    "    def __init__(self, model, n):\n",
    "        # Создание модели стюарта\n",
    "        self.model = model\n",
    "        # Сохранение результатов\n",
    "        self.results = np.array([])\n",
    "        # Сохранение промежуточных результатов\n",
    "        self.intermediate_result = np.array([])\n",
    "        # Создание цикла для формирования датасета\n",
    "\n",
    "        self.n = n\n",
    "\n",
    "        self.x = np.array([])\n",
    "\n",
    "        self.y = np.array([])\n",
    "\n",
    "    def dataset(self,pandas_df =True , prints=False):\n",
    "        while self.n != 0:\n",
    "            # Генерация перемещений\n",
    "            coordinates = 0.1*((np.random.rand(3)*self.model.max_len)-self.model.max_len/2)\n",
    "            # Генерация углов поворота\n",
    "            angle = 90*np.random.rand(3) - 45\n",
    "            # Сохранение координат верхней платформы\n",
    "            self.model.change_of_position_upper_platform(alfa=angle[0], betta=angle[1], gamma=angle[2],\n",
    "\n",
    "                                                         x=coordinates[0], y=coordinates[1], z=coordinates[2])\n",
    "            # Расчитываем углы\n",
    "            self.model.angle()\n",
    "            # Расчитываем длинны\n",
    "            self.model.len_leg()\n",
    "\n",
    "            if sum(self.model.test_lens) == 6 and sum(sum(self.model.test_angle)) == 12:\n",
    "\n",
    "                self.intermediate_result = np.append((np.concatenate((np.concatenate(\n",
    "                    (angle, coordinates)), self.model.len))), self.model.angle_lens.reshape(1, -1))\n",
    "\n",
    "                self.intermediate_result = self.intermediate_result.reshape(\n",
    "                    1, -1)\n",
    "\n",
    "                self.results = np.append(\n",
    "                    self.results, self.intermediate_result)\n",
    "\n",
    "                self.n -= 1\n",
    "\n",
    "            else:\n",
    "                if prints == True:\n",
    "                    print('Длинны ног', self.model.len, self.model.test_lens, 'Углы наклона ног',\n",
    "                          self.model.angle_lens, self.model.test_angle, '--------------------', sep='\\n')\n",
    "                self.model.coordinates_upper_platform = mf.calculation_new_coordinates(\n",
    "                    self.model._Stuart__inv_matrix, self.model.coordinates_upper_platform).reshape(-1, 3)\n",
    "\n",
    "# 1 вектор размерностью 24\n",
    "        self.results = self.results.reshape(-1, 24)\n",
    "\n",
    "        self.x = self.results[:,:6]\n",
    "\n",
    "        self.y = self.results[:,6:]\n",
    "\n",
    "        columns_my = ['Угол поворота Х', 'Угол поворта Y', 'Угол поворота Z',\n",
    "                      'Перемещение по Х', 'Перемещение по Y', 'Перемещение по Z',\n",
    "                      'Длинна 1 ноги', 'Длинна 2 ноги', 'Длинна 3 ноги', 'Длинна 4 ноги', 'Длинна 5 ноги', 'Длинна 6 ноги',\n",
    "                      'Угол поворота 1 ноги у нижней платформы', 'Угол поворота 1 ноги у верхней платформы', 'Угол поворота 2 ноги у нижней платформы', 'Угол поворота 2 ноги у верхней платформы', 'Угол поворота 3 ноги у нижней платформы', 'Угол поворота 3 ноги у верхней платформы',\n",
    "                      'Угол поворота 4 ноги у нижней платформы', 'Угол поворота 4 ноги у верхней платформы', 'Угол поворота 5 ноги у нижней платформы', 'Угол поворота 5 ноги у верхней платформы', 'Угол поворота 6 ноги у нижней платформы', 'Угол поворота 6 ноги у верхней платформы']\n",
    "        \n",
    "        if pandas_df:\n",
    "            return pd.DataFrame(self.results, columns=columns_my)\n",
    "        else:\n",
    "            return self.x,self.y\n",
    "\n",
    "    def models(self,epoh,iter,plots = True):\n",
    "        self.x = torch.Tensor(self.x)\n",
    "        self.y = torch.Tensor(self.y)\n",
    "        self.network = nn.Sequential(\n",
    "            nn.Linear(6,36),\n",
    "            nn.ReLU(),\n",
    "            nn.Linear(36, 144),\n",
    "            nn.ReLU(),\n",
    "            nn.Linear(144, 18),\n",
    "            nn.ReLU(),\n",
    "        )\n",
    "        self.optimizer = torch.optim.Adam(network.parameters())\n",
    "        self.losses = []\n",
    "        for i in range(epoh):\n",
    "            for j in tqdm(range(iter)):\n",
    "                y_pred = self.network(self.x)\n",
    "                loss = F.mse_loss(y_pred, self.y)\n",
    "                self.optimizer.zero_grad()\n",
    "                loss.backward()\n",
    "                self.optimizer.step()\n",
    "                self.losses.append(loss.item())\n",
    "        if plots:\n",
    "            plt.plot(range(epoh*iter),self.losses)\n",
    "#Ввод данных осуществляется только numpy\n",
    "    def model_predict(self,data):\n",
    "        return self.network(torch.Tensor(x))"
   ]
  },
  {
   "cell_type": "code",
   "execution_count": 79,
   "metadata": {},
   "outputs": [
    {
     "name": "stdout",
     "output_type": "stream",
     "text": [
      "Вы задали\n",
      "Координаты глобальной системы:[0, 0, 0]\n",
      "Минимальная и максимальная длинна ноги:(3000, 7000)\n",
      "Минимальный и максимальный наклон ног:(45, 135)\n"
     ]
    }
   ],
   "source": [
    "import numpy as np\n",
    "import main_Stuart as ms\n",
    "import sys\n",
    "\n",
    "sys.path.append(sys.path[0].replace('StewartTest', 'StewartLibrary/'))\n",
    "\n",
    "\n",
    "model = ms.Stuart(coordinates_global=[0, 0, 0], min_len=3000,\n",
    "                  max_len=7000, angles=45)\n",
    "model.coordinate_lower_platform(alfa=0, betta=0, gamma=0,\n",
    "                                x=0, y=0, z=2000, R_lower=4000)\n",
    "model.coordinate_upper_platform(alfa=0, betta=0, gamma=0,\n",
    "                                x=0, y=0, z=0, R_upper=3000)\n"
   ]
  },
  {
   "cell_type": "code",
   "execution_count": 81,
   "metadata": {},
   "outputs": [],
   "source": [
    "e = Model_Stuart(model,10000)"
   ]
  },
  {
   "cell_type": "code",
   "execution_count": 82,
   "metadata": {},
   "outputs": [],
   "source": [
    "x,y = e.dataset(pandas_df=False)"
   ]
  },
  {
   "cell_type": "code",
   "execution_count": 83,
   "metadata": {},
   "outputs": [],
   "source": [
    "x = torch.Tensor(x)\n",
    "y = torch.Tensor(y)"
   ]
  },
  {
   "cell_type": "code",
   "execution_count": 86,
   "metadata": {},
   "outputs": [
    {
     "name": "stderr",
     "output_type": "stream",
     "text": [
      " 16%|█▋        | 1222/7500 [00:28<02:24, 43.39it/s]\n"
     ]
    },
    {
     "ename": "KeyboardInterrupt",
     "evalue": "",
     "output_type": "error",
     "traceback": [
      "\u001b[0;31m---------------------------------------------------------------------------\u001b[0m",
      "\u001b[0;31mKeyboardInterrupt\u001b[0m                         Traceback (most recent call last)",
      "\u001b[0;32m<ipython-input-86-d2ec2a060bde>\u001b[0m in \u001b[0;36m<module>\u001b[0;34m\u001b[0m\n\u001b[1;32m     20\u001b[0m \u001b[0;32mfor\u001b[0m \u001b[0mi\u001b[0m \u001b[0;32min\u001b[0m \u001b[0mrange\u001b[0m\u001b[0;34m(\u001b[0m\u001b[0mepoh\u001b[0m\u001b[0;34m)\u001b[0m\u001b[0;34m:\u001b[0m\u001b[0;34m\u001b[0m\u001b[0m\n\u001b[1;32m     21\u001b[0m     \u001b[0;32mfor\u001b[0m \u001b[0mj\u001b[0m \u001b[0;32min\u001b[0m \u001b[0mtqdm\u001b[0m\u001b[0;34m(\u001b[0m\u001b[0mrange\u001b[0m\u001b[0;34m(\u001b[0m\u001b[0miteration\u001b[0m\u001b[0;34m)\u001b[0m\u001b[0;34m)\u001b[0m\u001b[0;34m:\u001b[0m\u001b[0;34m\u001b[0m\u001b[0m\n\u001b[0;32m---> 22\u001b[0;31m         \u001b[0my_pred\u001b[0m \u001b[0;34m=\u001b[0m \u001b[0mnetwork\u001b[0m\u001b[0;34m(\u001b[0m\u001b[0mx\u001b[0m\u001b[0;34m)\u001b[0m\u001b[0;34m\u001b[0m\u001b[0m\n\u001b[0m\u001b[1;32m     23\u001b[0m         \u001b[0mloss\u001b[0m \u001b[0;34m=\u001b[0m \u001b[0mF\u001b[0m\u001b[0;34m.\u001b[0m\u001b[0mmse_loss\u001b[0m\u001b[0;34m(\u001b[0m\u001b[0my_pred\u001b[0m\u001b[0;34m,\u001b[0m \u001b[0my\u001b[0m\u001b[0;34m)\u001b[0m\u001b[0;34m\u001b[0m\u001b[0m\n\u001b[1;32m     24\u001b[0m         \u001b[0moptimizer\u001b[0m\u001b[0;34m.\u001b[0m\u001b[0mzero_grad\u001b[0m\u001b[0;34m(\u001b[0m\u001b[0;34m)\u001b[0m\u001b[0;34m\u001b[0m\u001b[0m\n",
      "\u001b[0;32m/opt/anaconda3/lib/python3.6/site-packages/torch/nn/modules/module.py\u001b[0m in \u001b[0;36m_call_impl\u001b[0;34m(self, *input, **kwargs)\u001b[0m\n\u001b[1;32m   1100\u001b[0m         if not (self._backward_hooks or self._forward_hooks or self._forward_pre_hooks or _global_backward_hooks\n\u001b[1;32m   1101\u001b[0m                 or _global_forward_hooks or _global_forward_pre_hooks):\n\u001b[0;32m-> 1102\u001b[0;31m             \u001b[0;32mreturn\u001b[0m \u001b[0mforward_call\u001b[0m\u001b[0;34m(\u001b[0m\u001b[0;34m*\u001b[0m\u001b[0minput\u001b[0m\u001b[0;34m,\u001b[0m \u001b[0;34m**\u001b[0m\u001b[0mkwargs\u001b[0m\u001b[0;34m)\u001b[0m\u001b[0;34m\u001b[0m\u001b[0m\n\u001b[0m\u001b[1;32m   1103\u001b[0m         \u001b[0;31m# Do not call functions when jit is used\u001b[0m\u001b[0;34m\u001b[0m\u001b[0;34m\u001b[0m\u001b[0m\n\u001b[1;32m   1104\u001b[0m         \u001b[0mfull_backward_hooks\u001b[0m\u001b[0;34m,\u001b[0m \u001b[0mnon_full_backward_hooks\u001b[0m \u001b[0;34m=\u001b[0m \u001b[0;34m[\u001b[0m\u001b[0;34m]\u001b[0m\u001b[0;34m,\u001b[0m \u001b[0;34m[\u001b[0m\u001b[0;34m]\u001b[0m\u001b[0;34m\u001b[0m\u001b[0m\n",
      "\u001b[0;32m/opt/anaconda3/lib/python3.6/site-packages/torch/nn/modules/container.py\u001b[0m in \u001b[0;36mforward\u001b[0;34m(self, input)\u001b[0m\n\u001b[1;32m    139\u001b[0m     \u001b[0;32mdef\u001b[0m \u001b[0mforward\u001b[0m\u001b[0;34m(\u001b[0m\u001b[0mself\u001b[0m\u001b[0;34m,\u001b[0m \u001b[0minput\u001b[0m\u001b[0;34m)\u001b[0m\u001b[0;34m:\u001b[0m\u001b[0;34m\u001b[0m\u001b[0m\n\u001b[1;32m    140\u001b[0m         \u001b[0;32mfor\u001b[0m \u001b[0mmodule\u001b[0m \u001b[0;32min\u001b[0m \u001b[0mself\u001b[0m\u001b[0;34m:\u001b[0m\u001b[0;34m\u001b[0m\u001b[0m\n\u001b[0;32m--> 141\u001b[0;31m             \u001b[0minput\u001b[0m \u001b[0;34m=\u001b[0m \u001b[0mmodule\u001b[0m\u001b[0;34m(\u001b[0m\u001b[0minput\u001b[0m\u001b[0;34m)\u001b[0m\u001b[0;34m\u001b[0m\u001b[0m\n\u001b[0m\u001b[1;32m    142\u001b[0m         \u001b[0;32mreturn\u001b[0m \u001b[0minput\u001b[0m\u001b[0;34m\u001b[0m\u001b[0m\n\u001b[1;32m    143\u001b[0m \u001b[0;34m\u001b[0m\u001b[0m\n",
      "\u001b[0;32m/opt/anaconda3/lib/python3.6/site-packages/torch/nn/modules/module.py\u001b[0m in \u001b[0;36m_call_impl\u001b[0;34m(self, *input, **kwargs)\u001b[0m\n\u001b[1;32m   1100\u001b[0m         if not (self._backward_hooks or self._forward_hooks or self._forward_pre_hooks or _global_backward_hooks\n\u001b[1;32m   1101\u001b[0m                 or _global_forward_hooks or _global_forward_pre_hooks):\n\u001b[0;32m-> 1102\u001b[0;31m             \u001b[0;32mreturn\u001b[0m \u001b[0mforward_call\u001b[0m\u001b[0;34m(\u001b[0m\u001b[0;34m*\u001b[0m\u001b[0minput\u001b[0m\u001b[0;34m,\u001b[0m \u001b[0;34m**\u001b[0m\u001b[0mkwargs\u001b[0m\u001b[0;34m)\u001b[0m\u001b[0;34m\u001b[0m\u001b[0m\n\u001b[0m\u001b[1;32m   1103\u001b[0m         \u001b[0;31m# Do not call functions when jit is used\u001b[0m\u001b[0;34m\u001b[0m\u001b[0;34m\u001b[0m\u001b[0m\n\u001b[1;32m   1104\u001b[0m         \u001b[0mfull_backward_hooks\u001b[0m\u001b[0;34m,\u001b[0m \u001b[0mnon_full_backward_hooks\u001b[0m \u001b[0;34m=\u001b[0m \u001b[0;34m[\u001b[0m\u001b[0;34m]\u001b[0m\u001b[0;34m,\u001b[0m \u001b[0;34m[\u001b[0m\u001b[0;34m]\u001b[0m\u001b[0;34m\u001b[0m\u001b[0m\n",
      "\u001b[0;32m/opt/anaconda3/lib/python3.6/site-packages/torch/nn/modules/linear.py\u001b[0m in \u001b[0;36mforward\u001b[0;34m(self, input)\u001b[0m\n\u001b[1;32m    101\u001b[0m \u001b[0;34m\u001b[0m\u001b[0m\n\u001b[1;32m    102\u001b[0m     \u001b[0;32mdef\u001b[0m \u001b[0mforward\u001b[0m\u001b[0;34m(\u001b[0m\u001b[0mself\u001b[0m\u001b[0;34m,\u001b[0m \u001b[0minput\u001b[0m\u001b[0;34m:\u001b[0m \u001b[0mTensor\u001b[0m\u001b[0;34m)\u001b[0m \u001b[0;34m->\u001b[0m \u001b[0mTensor\u001b[0m\u001b[0;34m:\u001b[0m\u001b[0;34m\u001b[0m\u001b[0m\n\u001b[0;32m--> 103\u001b[0;31m         \u001b[0;32mreturn\u001b[0m \u001b[0mF\u001b[0m\u001b[0;34m.\u001b[0m\u001b[0mlinear\u001b[0m\u001b[0;34m(\u001b[0m\u001b[0minput\u001b[0m\u001b[0;34m,\u001b[0m \u001b[0mself\u001b[0m\u001b[0;34m.\u001b[0m\u001b[0mweight\u001b[0m\u001b[0;34m,\u001b[0m \u001b[0mself\u001b[0m\u001b[0;34m.\u001b[0m\u001b[0mbias\u001b[0m\u001b[0;34m)\u001b[0m\u001b[0;34m\u001b[0m\u001b[0m\n\u001b[0m\u001b[1;32m    104\u001b[0m \u001b[0;34m\u001b[0m\u001b[0m\n\u001b[1;32m    105\u001b[0m     \u001b[0;32mdef\u001b[0m \u001b[0mextra_repr\u001b[0m\u001b[0;34m(\u001b[0m\u001b[0mself\u001b[0m\u001b[0;34m)\u001b[0m \u001b[0;34m->\u001b[0m \u001b[0mstr\u001b[0m\u001b[0;34m:\u001b[0m\u001b[0;34m\u001b[0m\u001b[0m\n",
      "\u001b[0;32m/opt/anaconda3/lib/python3.6/site-packages/torch/nn/functional.py\u001b[0m in \u001b[0;36mlinear\u001b[0;34m(input, weight, bias)\u001b[0m\n\u001b[1;32m   1846\u001b[0m     \u001b[0;32mif\u001b[0m \u001b[0mhas_torch_function_variadic\u001b[0m\u001b[0;34m(\u001b[0m\u001b[0minput\u001b[0m\u001b[0;34m,\u001b[0m \u001b[0mweight\u001b[0m\u001b[0;34m,\u001b[0m \u001b[0mbias\u001b[0m\u001b[0;34m)\u001b[0m\u001b[0;34m:\u001b[0m\u001b[0;34m\u001b[0m\u001b[0m\n\u001b[1;32m   1847\u001b[0m         \u001b[0;32mreturn\u001b[0m \u001b[0mhandle_torch_function\u001b[0m\u001b[0;34m(\u001b[0m\u001b[0mlinear\u001b[0m\u001b[0;34m,\u001b[0m \u001b[0;34m(\u001b[0m\u001b[0minput\u001b[0m\u001b[0;34m,\u001b[0m \u001b[0mweight\u001b[0m\u001b[0;34m,\u001b[0m \u001b[0mbias\u001b[0m\u001b[0;34m)\u001b[0m\u001b[0;34m,\u001b[0m \u001b[0minput\u001b[0m\u001b[0;34m,\u001b[0m \u001b[0mweight\u001b[0m\u001b[0;34m,\u001b[0m \u001b[0mbias\u001b[0m\u001b[0;34m=\u001b[0m\u001b[0mbias\u001b[0m\u001b[0;34m)\u001b[0m\u001b[0;34m\u001b[0m\u001b[0m\n\u001b[0;32m-> 1848\u001b[0;31m     \u001b[0;32mreturn\u001b[0m \u001b[0mtorch\u001b[0m\u001b[0;34m.\u001b[0m\u001b[0m_C\u001b[0m\u001b[0;34m.\u001b[0m\u001b[0m_nn\u001b[0m\u001b[0;34m.\u001b[0m\u001b[0mlinear\u001b[0m\u001b[0;34m(\u001b[0m\u001b[0minput\u001b[0m\u001b[0;34m,\u001b[0m \u001b[0mweight\u001b[0m\u001b[0;34m,\u001b[0m \u001b[0mbias\u001b[0m\u001b[0;34m)\u001b[0m\u001b[0;34m\u001b[0m\u001b[0m\n\u001b[0m\u001b[1;32m   1849\u001b[0m \u001b[0;34m\u001b[0m\u001b[0m\n\u001b[1;32m   1850\u001b[0m \u001b[0;34m\u001b[0m\u001b[0m\n",
      "\u001b[0;31mKeyboardInterrupt\u001b[0m: "
     ]
    }
   ],
   "source": [
    "#Задаем 3 слоя 1)линейный с логарифмической функцией активации \n",
    "x = torch.Tensor(x)\n",
    "y = torch.Tensor(y)\n",
    "network = nn.Sequential(\n",
    "    nn.Linear(6,50),\n",
    "    nn.ReLU(),\n",
    "    nn.Linear(50, 100),\n",
    "    nn.ReLU(),\n",
    "    nn.Linear(100,40),\n",
    "    nn.ReLU(),\n",
    "    nn.Linear(40,20),\n",
    "    nn.ReLU(),\n",
    "    nn.Linear(20,18),\n",
    "    nn.ReLU()\n",
    ")\n",
    "optimizer = torch.optim.Adam(network.parameters())\n",
    "epoh = 10\n",
    "iteration = 7500\n",
    "losses = []\n",
    "for i in range(epoh):\n",
    "    for j in tqdm(range(iteration)):\n",
    "        y_pred = network(x)\n",
    "        loss = F.mse_loss(y_pred, y)\n",
    "        optimizer.zero_grad()\n",
    "        loss.backward()\n",
    "        optimizer.step()\n",
    "        losses.append(loss.item())\n",
    "plt.plot(range(epoh*iteration),losses)\n"
   ]
  },
  {
   "cell_type": "code",
   "execution_count": 85,
   "metadata": {},
   "outputs": [
    {
     "name": "stdout",
     "output_type": "stream",
     "text": [
      "Выход из модели: tensor([4497.7852,    0.0000, 5887.9014, 6573.3350, 6311.6621, 5319.4102,\n",
      "          48.8502,    0.0000,    0.0000,   76.7295,   86.5054,   56.4383,\n",
      "          82.9962,   50.0418,   57.6640,   65.6006,    0.0000,   73.3465],\n",
      "       grad_fn=<ReluBackward0>) \n",
      " Истинное значение велечин:  tensor([3386.0247, 5333.4033, 6855.7427, 6969.7344, 5621.1357, 3611.2532,\n",
      "          51.7886,   86.5193,   47.9842,   85.1105,   52.4388,   73.6907,\n",
      "          63.3848,   60.5491,   72.1354,   56.2951,   64.4924,   70.9242]) \n",
      "Значение ошибки: tensor(1353558., grad_fn=<MseLossBackward0>)\n"
     ]
    }
   ],
   "source": [
    "print('Выход из модели:',network(x[0]),'\\n','Истинное значение велечин: ',y[0],'\\n''Значение ошибки:',loss)"
   ]
  },
  {
   "cell_type": "code",
   "execution_count": 82,
   "metadata": {},
   "outputs": [],
   "source": [
    "class test_dataset():\n",
    "\n",
    "    def __init__(self, model, n):\n",
    "        # Создание модели стюарта\n",
    "        self.model = model\n",
    "        # Сохранение результатов\n",
    "        self.results = np.array([])\n",
    "        # Сохранение промежуточных результатов\n",
    "        self.intermediate_result = np.array([])\n",
    "        # Создание цикла для формирования датасета\n",
    "\n",
    "        self.n = n\n",
    "\n",
    "        self.x = np.array([])\n",
    "\n",
    "        self.y = np.array([])\n",
    "\n",
    "        self.size = n\n",
    "\n",
    "        self.platform = np.array([])\n",
    "\n",
    "    def dataset(self,pandas_df =True , prints=False):\n",
    "        while self.n != 0:\n",
    "            # Генерация перемещений\n",
    "            self.coordinates = 0.1*((np.random.rand(3)*self.model.max_len)-self.model.max_len/2)\n",
    "            # Генерация углов поворота\n",
    "            self.angle = 90*np.random.rand(3) - 45\n",
    "            # Сохранение координат верхней платформы\n",
    "            self.model.change_of_position_upper_platform(alfa=self.angle[0], betta=self.angle[1], gamma=self.angle[2],\n",
    "\n",
    "                                                         x=self.coordinates[0], y=self.coordinates[1], z=self.coordinates[2])\n",
    "            # Расчитываем углы\n",
    "            self.model.angle()\n",
    "            # Расчитываем длинны\n",
    "            self.model.len_leg()\n",
    "\n",
    "            if sum(self.model.test_lens) == 6 and sum(sum(self.model.test_angle)) == 12:\n",
    "\n",
    "                self.platform = np.append(self.platform,np.concatenate([self.model.coordinates_upper_platform.reshape(1,-1),self.angle.reshape(1,-1),self.coordinates.reshape(1,-1),self.model.coordinates_lower_platform.reshape(1,-1)],axis=1))\n",
    "\n",
    "                self.intermediate_result = np.append((np.concatenate((np.concatenate(\n",
    "                    (self.angle, self.coordinates)), self.model.len))), self.model.angle_lens.reshape(1, -1))\n",
    "\n",
    "                self.intermediate_result = self.intermediate_result.reshape(\n",
    "                    1, -1)\n",
    "\n",
    "                self.results = np.append(\n",
    "                    self.results, self.intermediate_result)\n",
    "\n",
    "                self.n -= 1\n",
    "\n",
    "            else:\n",
    "                if prints == True:\n",
    "                    print('Длинны ног', self.model.len, self.model.test_lens, 'Углы наклона ног',\n",
    "                          self.model.angle_lens, self.model.test_angle, '--------------------', sep='\\n')\n",
    "                self.model.coordinates_upper_platform = mf.calculation_new_coordinates(\n",
    "                    self.model._Stuart__inv_matrix, self.model.coordinates_upper_platform).reshape(-1, 3)\n",
    "\n",
    "        #self.results = self.results.reshape(size,-1)\n",
    "\n",
    "        self.results = self.results.reshape(self.size, -1)\n",
    "\n",
    "        self.x = self.results[:,:6]\n",
    "\n",
    "        self.y = self.results[:,6:]\n",
    "\n",
    "        self.platform = self.platform.reshape(-1,48)\n",
    "\n",
    "        columns_my = ['Угол поворота Х', 'Угол поворта Y', 'Угол поворота Z',\n",
    "                      'Перемещение по Х', 'Перемещение по Y', 'Перемещение по Z',\n",
    "                      'Длинна 1 ноги', 'Длинна 2 ноги', 'Длинна 3 ноги', 'Длинна 4 ноги', 'Длинна 5 ноги', 'Длинна 6 ноги',\n",
    "                      'Угол поворота 1 ноги у нижней платформы', 'Угол поворота 1 ноги у верхней платформы', 'Угол поворота 2 ноги у нижней платформы', 'Угол поворота 2 ноги у верхней платформы', 'Угол поворота 3 ноги у нижней платформы', 'Угол поворота 3 ноги у верхней платформы',\n",
    "                      'Угол поворота 4 ноги у нижней платформы', 'Угол поворота 4 ноги у верхней платформы', 'Угол поворота 5 ноги у нижней платформы', 'Угол поворота 5 ноги у верхней платформы', 'Угол поворота 6 ноги у нижней платформы', 'Угол поворота 6 ноги у верхней платформы']\n",
    "        nin = ''\n",
    "        verh = ''\n",
    "        verh = [[f'x_{i} координата верхней платформы',f'y_{i} координата верхней платформы',f'z_{i} координата верхней платформы'] if i!=7 else [f'x координата центра верхней платформы',f'y координата центра верхней платформы',f'z координата центра верхней платформы'] for i in range(1,8)]\n",
    "        verh = [j for i in verh for j in i]\n",
    "        niz = [[f'x_{i} координата нижней платформы',f'y_{i} координата нижней платформы',f'z_{i} координата нижней платформы'] if i!=7 else [f'x координата центра нижней платформы',f'y координата центра нижней платформы',f'z координата центра нижней платформы'] for i in range(1,8)]\n",
    "        niz = [j for i in niz for j in i]\n",
    "        anglen = ['Угол поворота Х', 'Угол поворта Y', 'Угол поворота Z','Перемещение по Х', 'Перемещение по Y', 'Перемещение по Z',]\n",
    "        columns_up_down = [j for i in [verh,anglen,niz] for j in i]\n",
    "        if pandas_df:\n",
    "            return pd.DataFrame(self.results, columns=columns_my),pd.DataFrame(self.platform,columns=columns_up_down)\n",
    "        else:\n",
    "            return self.x,self.y,self.platform\n"
   ]
  },
  {
   "cell_type": "code",
   "execution_count": 83,
   "metadata": {},
   "outputs": [
    {
     "name": "stdout",
     "output_type": "stream",
     "text": [
      "Вы задали\n",
      "Координаты глобальной системы:[0, 0, 0]\n",
      "Минимальная и максимальная длинна ноги:(3000, 7000)\n",
      "Минимальный и максимальный наклон ног:(45, 135)\n"
     ]
    }
   ],
   "source": [
    "import numpy as np\n",
    "import main_Stuart as ms\n",
    "import sys\n",
    "\n",
    "sys.path.append(sys.path[0].replace('StewartTest', 'StewartLibrary/'))\n",
    "\n",
    "\n",
    "model = ms.Stuart(coordinates_global=[0, 0, 0], min_len=3000,\n",
    "                  max_len=7000, angles=45)\n",
    "model.coordinate_lower_platform(alfa=0, betta=0, gamma=0,\n",
    "                                x=0, y=0, z=2000, R_lower=4000)\n",
    "model.coordinate_upper_platform(alfa=0, betta=0, gamma=0,\n",
    "                                x=0, y=0, z=0, R_upper=3000)"
   ]
  },
  {
   "cell_type": "code",
   "execution_count": 87,
   "metadata": {},
   "outputs": [
    {
     "ename": "KeyboardInterrupt",
     "evalue": "",
     "output_type": "error",
     "traceback": [
      "\u001b[0;31m---------------------------------------------------------------------------\u001b[0m",
      "\u001b[0;31mKeyboardInterrupt\u001b[0m                         Traceback (most recent call last)",
      "\u001b[0;32m<ipython-input-87-b25c55237db0>\u001b[0m in \u001b[0;36m<module>\u001b[0;34m\u001b[0m\n\u001b[1;32m      1\u001b[0m \u001b[0me\u001b[0m \u001b[0;34m=\u001b[0m \u001b[0mtest_dataset\u001b[0m\u001b[0;34m(\u001b[0m\u001b[0mmodel\u001b[0m\u001b[0;34m,\u001b[0m\u001b[0;36m100000\u001b[0m\u001b[0;34m)\u001b[0m\u001b[0;34m\u001b[0m\u001b[0m\n\u001b[0;32m----> 2\u001b[0;31m \u001b[0mdf1\u001b[0m\u001b[0;34m,\u001b[0m\u001b[0mdf2\u001b[0m \u001b[0;34m=\u001b[0m \u001b[0me\u001b[0m\u001b[0;34m.\u001b[0m\u001b[0mdataset\u001b[0m\u001b[0;34m(\u001b[0m\u001b[0mpandas_df\u001b[0m\u001b[0;34m=\u001b[0m\u001b[0;32mTrue\u001b[0m\u001b[0;34m)\u001b[0m\u001b[0;34m\u001b[0m\u001b[0m\n\u001b[0m",
      "\u001b[0;32m<ipython-input-82-7097f48ce451>\u001b[0m in \u001b[0;36mdataset\u001b[0;34m(self, pandas_df, prints)\u001b[0m\n\u001b[1;32m     29\u001b[0m             self.model.change_of_position_upper_platform(alfa=self.angle[0], betta=self.angle[1], gamma=self.angle[2],\n\u001b[1;32m     30\u001b[0m \u001b[0;34m\u001b[0m\u001b[0m\n\u001b[0;32m---> 31\u001b[0;31m                                                          x=self.coordinates[0], y=self.coordinates[1], z=self.coordinates[2])\n\u001b[0m\u001b[1;32m     32\u001b[0m             \u001b[0;31m# Расчитываем углы\u001b[0m\u001b[0;34m\u001b[0m\u001b[0;34m\u001b[0m\u001b[0m\n\u001b[1;32m     33\u001b[0m             \u001b[0mself\u001b[0m\u001b[0;34m.\u001b[0m\u001b[0mmodel\u001b[0m\u001b[0;34m.\u001b[0m\u001b[0mangle\u001b[0m\u001b[0;34m(\u001b[0m\u001b[0;34m)\u001b[0m\u001b[0;34m\u001b[0m\u001b[0m\n",
      "\u001b[0;32m~/Documents/GitHub/Stewart_platform/StewartLibrary/main_Stuart.py\u001b[0m in \u001b[0;36mchange_of_position_upper_platform\u001b[0;34m(self, alfa, betta, gamma, x, y, z)\u001b[0m\n\u001b[1;32m    115\u001b[0m     \u001b[0;32mdef\u001b[0m \u001b[0mchange_of_position_upper_platform\u001b[0m\u001b[0;34m(\u001b[0m\u001b[0mself\u001b[0m\u001b[0;34m,\u001b[0m \u001b[0malfa\u001b[0m\u001b[0;34m,\u001b[0m \u001b[0mbetta\u001b[0m\u001b[0;34m,\u001b[0m \u001b[0mgamma\u001b[0m\u001b[0;34m,\u001b[0m \u001b[0mx\u001b[0m\u001b[0;34m,\u001b[0m \u001b[0my\u001b[0m\u001b[0;34m,\u001b[0m \u001b[0mz\u001b[0m\u001b[0;34m)\u001b[0m\u001b[0;34m:\u001b[0m\u001b[0;34m\u001b[0m\u001b[0m\n\u001b[1;32m    116\u001b[0m \u001b[0;34m\u001b[0m\u001b[0m\n\u001b[0;32m--> 117\u001b[0;31m         \u001b[0mlist\u001b[0m\u001b[0;34m(\u001b[0m\u001b[0mmap\u001b[0m\u001b[0;34m(\u001b[0m\u001b[0mer\u001b[0m\u001b[0;34m.\u001b[0m\u001b[0mCheck\u001b[0m\u001b[0;34m.\u001b[0m\u001b[0m_Check__checkNumbers\u001b[0m\u001b[0;34m,\u001b[0m \u001b[0;34m[\u001b[0m\u001b[0malfa\u001b[0m\u001b[0;34m,\u001b[0m \u001b[0mbetta\u001b[0m\u001b[0;34m,\u001b[0m \u001b[0mgamma\u001b[0m\u001b[0;34m,\u001b[0m \u001b[0mx\u001b[0m\u001b[0;34m,\u001b[0m \u001b[0my\u001b[0m\u001b[0;34m,\u001b[0m \u001b[0mz\u001b[0m\u001b[0;34m]\u001b[0m\u001b[0;34m)\u001b[0m\u001b[0;34m)\u001b[0m\u001b[0;34m\u001b[0m\u001b[0m\n\u001b[0m\u001b[1;32m    118\u001b[0m \u001b[0;34m\u001b[0m\u001b[0m\n\u001b[1;32m    119\u001b[0m         \u001b[0mself\u001b[0m\u001b[0;34m.\u001b[0m\u001b[0m__transform_matrix\u001b[0m \u001b[0;34m=\u001b[0m \u001b[0mmf\u001b[0m\u001b[0;34m.\u001b[0m\u001b[0mtransformation\u001b[0m\u001b[0;34m(\u001b[0m\u001b[0malfa\u001b[0m\u001b[0;34m,\u001b[0m \u001b[0mbetta\u001b[0m\u001b[0;34m,\u001b[0m \u001b[0mgamma\u001b[0m\u001b[0;34m,\u001b[0m \u001b[0mx\u001b[0m\u001b[0;34m,\u001b[0m \u001b[0my\u001b[0m\u001b[0;34m,\u001b[0m \u001b[0mz\u001b[0m\u001b[0;34m)\u001b[0m\u001b[0;34m\u001b[0m\u001b[0m\n",
      "\u001b[0;32m~/Documents/GitHub/Stewart_platform/StewartLibrary/Errors.py\u001b[0m in \u001b[0;36m__checkNumbers\u001b[0;34m(numbers)\u001b[0m\n\u001b[1;32m      6\u001b[0m     \u001b[0;32mdef\u001b[0m \u001b[0m__checkNumbers\u001b[0m\u001b[0;34m(\u001b[0m\u001b[0mnumbers\u001b[0m\u001b[0;34m)\u001b[0m\u001b[0;34m:\u001b[0m\u001b[0;34m\u001b[0m\u001b[0m\n\u001b[1;32m      7\u001b[0m \u001b[0;34m\u001b[0m\u001b[0m\n\u001b[0;32m----> 8\u001b[0;31m         \u001b[0;32mif\u001b[0m \u001b[0misinstance\u001b[0m\u001b[0;34m(\u001b[0m\u001b[0mnumbers\u001b[0m\u001b[0;34m,\u001b[0m \u001b[0;34m(\u001b[0m\u001b[0mint\u001b[0m\u001b[0;34m,\u001b[0m \u001b[0mfloat\u001b[0m\u001b[0;34m,\u001b[0m \u001b[0mnp\u001b[0m\u001b[0;34m.\u001b[0m\u001b[0mint8\u001b[0m\u001b[0;34m,\u001b[0m \u001b[0mnp\u001b[0m\u001b[0;34m.\u001b[0m\u001b[0mint16\u001b[0m\u001b[0;34m,\u001b[0m \u001b[0mnp\u001b[0m\u001b[0;34m.\u001b[0m\u001b[0mint32\u001b[0m\u001b[0;34m,\u001b[0m \u001b[0mnp\u001b[0m\u001b[0;34m.\u001b[0m\u001b[0mint64\u001b[0m\u001b[0;34m,\u001b[0m \u001b[0mnp\u001b[0m\u001b[0;34m.\u001b[0m\u001b[0mfloat16\u001b[0m\u001b[0;34m,\u001b[0m \u001b[0mnp\u001b[0m\u001b[0;34m.\u001b[0m\u001b[0mfloat32\u001b[0m\u001b[0;34m,\u001b[0m \u001b[0mnp\u001b[0m\u001b[0;34m.\u001b[0m\u001b[0mfloat64\u001b[0m\u001b[0;34m)\u001b[0m\u001b[0;34m)\u001b[0m\u001b[0;34m:\u001b[0m\u001b[0;34m\u001b[0m\u001b[0m\n\u001b[0m\u001b[1;32m      9\u001b[0m             \u001b[0;32mreturn\u001b[0m \u001b[0mnumbers\u001b[0m\u001b[0;34m\u001b[0m\u001b[0m\n\u001b[1;32m     10\u001b[0m \u001b[0;34m\u001b[0m\u001b[0m\n",
      "\u001b[0;31mKeyboardInterrupt\u001b[0m: "
     ]
    }
   ],
   "source": [
    "e = test_dataset(model,100000)\n",
    "df1,df2 = e.dataset(pandas_df=True)"
   ]
  },
  {
   "cell_type": "code",
   "execution_count": 114,
   "metadata": {},
   "outputs": [],
   "source": [
    "nin = ''\n",
    "verh = ''\n",
    "verh = [[f'x_{i} координата верхней платформы',f'y_{i} координата верхней платформы',f'z_{i} координата верхней платформы'] if i!=7 else [f'x координата центра верхней платформы',f'y координата центра верхней платформы',f'z координата центра верхней платформы'] for i in range(1,8)]\n",
    "verh = [j for i in verh for j in i]\n",
    "niz = [[f'x_{i} координата нижней платформы',f'y_{i} координата нижней платформы',f'z_{i} координата нижней платформы'] if i!=7 else [f'x координата центра нижней платформы',f'y координата центра нижней платформы',f'z координата центра нижней платформы'] for i in range(1,8)]\n",
    "niz = [j for i in niz for j in i]\n",
    "anglen = ['Угол поворота Х', 'Угол поворта Y', 'Угол поворота Z','Перемещение по Х', 'Перемещение по Y', 'Перемещение по Z',]\n",
    "columns_up_down = [j for i in [verh,anglen,niz] for j in i]\n",
    "xy = e.platform.reshape(-1,48)\n",
    "x= xy[:,:27]\n",
    "y = xy[:,27:]"
   ]
  },
  {
   "cell_type": "code",
   "execution_count": 98,
   "metadata": {},
   "outputs": [
    {
     "name": "stderr",
     "output_type": "stream",
     "text": [
      "  0%|          | 0/450 [00:00<?, ?it/s]/opt/anaconda3/lib/python3.6/site-packages/ipykernel_launcher.py:19: UserWarning: Using a target size (torch.Size([1000])) that is different to the input size (torch.Size([1000, 1])). This will likely lead to incorrect results due to broadcasting. Please ensure they have the same size.\n",
      "100%|██████████| 450/450 [00:00<00:00, 646.05it/s]\n",
      "100%|██████████| 450/450 [00:00<00:00, 683.19it/s]\n",
      "100%|██████████| 450/450 [00:00<00:00, 665.28it/s]\n",
      "100%|██████████| 450/450 [00:00<00:00, 682.32it/s]\n",
      "100%|██████████| 450/450 [00:00<00:00, 687.58it/s]\n",
      "100%|██████████| 450/450 [00:00<00:00, 679.49it/s]\n",
      "100%|██████████| 450/450 [00:00<00:00, 690.87it/s]\n",
      "100%|██████████| 450/450 [00:00<00:00, 671.33it/s]\n",
      "100%|██████████| 450/450 [00:00<00:00, 684.91it/s]\n",
      "100%|██████████| 450/450 [00:00<00:00, 689.68it/s]\n",
      "100%|██████████| 450/450 [00:00<00:00, 673.49it/s]\n",
      "100%|██████████| 450/450 [00:00<00:00, 682.27it/s]\n",
      "100%|██████████| 450/450 [00:00<00:00, 672.16it/s]\n",
      "100%|██████████| 450/450 [00:00<00:00, 687.29it/s]\n",
      "100%|██████████| 450/450 [00:00<00:00, 679.23it/s]\n",
      "100%|██████████| 450/450 [00:00<00:00, 681.67it/s]\n",
      "100%|██████████| 450/450 [00:00<00:00, 678.69it/s]\n",
      "100%|██████████| 450/450 [00:00<00:00, 677.75it/s]\n",
      "100%|██████████| 450/450 [00:00<00:00, 677.12it/s]\n",
      "100%|██████████| 450/450 [00:00<00:00, 680.90it/s]\n",
      "100%|██████████| 450/450 [00:00<00:00, 683.25it/s]\n",
      "100%|██████████| 450/450 [00:00<00:00, 677.90it/s]\n",
      "100%|██████████| 450/450 [00:00<00:00, 690.70it/s]\n",
      "100%|██████████| 450/450 [00:00<00:00, 670.15it/s]\n",
      "100%|██████████| 450/450 [00:00<00:00, 687.84it/s]\n",
      "100%|██████████| 450/450 [00:00<00:00, 674.87it/s]\n",
      "100%|██████████| 450/450 [00:00<00:00, 688.40it/s]\n",
      "100%|██████████| 450/450 [00:00<00:00, 674.04it/s]\n",
      "100%|██████████| 450/450 [00:00<00:00, 687.50it/s]\n",
      "100%|██████████| 450/450 [00:00<00:00, 683.23it/s]\n",
      "100%|██████████| 450/450 [00:00<00:00, 674.65it/s]\n",
      "100%|██████████| 450/450 [00:00<00:00, 685.94it/s]\n",
      "100%|██████████| 450/450 [00:00<00:00, 674.08it/s]\n",
      "100%|██████████| 450/450 [00:00<00:00, 686.36it/s]\n",
      "100%|██████████| 450/450 [00:00<00:00, 671.86it/s]\n",
      "100%|██████████| 450/450 [00:00<00:00, 689.62it/s]\n",
      "100%|██████████| 450/450 [00:00<00:00, 684.49it/s]\n",
      "100%|██████████| 450/450 [00:00<00:00, 594.10it/s]\n",
      "100%|██████████| 450/450 [00:00<00:00, 686.24it/s]\n",
      "100%|██████████| 450/450 [00:00<00:00, 674.64it/s]\n",
      "100%|██████████| 450/450 [00:00<00:00, 679.43it/s]\n",
      "100%|██████████| 450/450 [00:00<00:00, 680.63it/s]\n",
      "100%|██████████| 450/450 [00:00<00:00, 675.60it/s]\n",
      "100%|██████████| 450/450 [00:00<00:00, 683.15it/s]\n",
      "100%|██████████| 450/450 [00:00<00:00, 663.08it/s]\n",
      "100%|██████████| 450/450 [00:00<00:00, 686.16it/s]\n",
      "100%|██████████| 450/450 [00:00<00:00, 673.68it/s]\n",
      "100%|██████████| 450/450 [00:00<00:00, 691.58it/s]\n",
      "100%|██████████| 450/450 [00:00<00:00, 673.01it/s]\n",
      "100%|██████████| 450/450 [00:00<00:00, 688.71it/s]\n"
     ]
    },
    {
     "data": {
      "text/plain": [
       "[<matplotlib.lines.Line2D at 0x7fc748d061d0>]"
      ]
     },
     "execution_count": 98,
     "metadata": {},
     "output_type": "execute_result"
    },
    {
     "data": {
      "image/png": "[encoded data removed]",
      "text/plain": [
       "<Figure size 432x288 with 1 Axes>"
      ]
     },
     "metadata": {
      "needs_background": "light"
     },
     "output_type": "display_data"
    }
   ],
   "source": [
    "x = torch.Tensor(x)\n",
    "y = torch.Tensor(y)\n",
    "network = nn.Sequential(\n",
    "    nn.Linear(2,4),\n",
    "    nn.ReLU(),\n",
    "    nn.Linear(4,4),\n",
    "    nn.ReLU(),\n",
    "    nn.Linear(4,2),\n",
    "    nn.ReLU(),\n",
    "    nn.Linear(2,1)\n",
    ")\n",
    "optimizer = torch.optim.Adam(network.parameters())\n",
    "epoh = 50\n",
    "iteration = 450\n",
    "losses = []\n",
    "for i in range(epoh):\n",
    "    for j in tqdm(range(iteration)):\n",
    "        y_pred = network(x)\n",
    "        loss = F.mse_loss(y_pred, y)\n",
    "        optimizer.zero_grad()\n",
    "        loss.backward()\n",
    "        optimizer.step()\n",
    "        losses.append(loss.item())\n",
    "plt.plot(range(epoh*iteration),losses)"
   ]
  },
  {
   "cell_type": "code",
   "execution_count": 99,
   "metadata": {},
   "outputs": [
    {
     "name": "stdout",
     "output_type": "stream",
     "text": [
      "tensor([102.0459], grad_fn=<AddBackward0>) tensor(198.)\n"
     ]
    }
   ],
   "source": [
    "print(network(x[999]),y[999])"
   ]
  },
  {
   "cell_type": "code",
   "execution_count": null,
   "metadata": {},
   "outputs": [],
   "source": []
  },
  {
   "cell_type": "code",
   "execution_count": 97,
   "metadata": {},
   "outputs": [],
   "source": [
    "import numpy as np\n",
    "import pandas as pd\n",
    "x = np.linspace(1,100,1000)\n",
    "z = np.linspace(5,98,1000)\n",
    "y = (x+z)\n",
    "x = np.array([x,z]).transpose()\n",
    "y = y.transpose()"
   ]
  },
  {
   "cell_type": "code",
   "execution_count": 47,
   "metadata": {},
   "outputs": [
    {
     "data": {
      "text/plain": [
       "1000"
      ]
     },
     "execution_count": 47,
     "metadata": {},
     "output_type": "execute_result"
    }
   ],
   "source": [
    "y.size"
   ]
  },
  {
   "cell_type": "code",
   "execution_count": 48,
   "metadata": {},
   "outputs": [],
   "source": [
    "x = np.array([x,z]).transpose()"
   ]
  },
  {
   "cell_type": "code",
   "execution_count": 19,
   "metadata": {},
   "outputs": [
    {
     "data": {
      "text/plain": [
       "(1000, 2)"
      ]
     },
     "execution_count": 19,
     "metadata": {},
     "output_type": "execute_result"
    }
   ],
   "source": [
    "x.shape"
   ]
  },
  {
   "cell_type": "code",
   "execution_count": 113,
   "metadata": {},
   "outputs": [
    {
     "data": {
      "text/plain": [
       "torch.Size([22])"
      ]
     },
     "execution_count": 113,
     "metadata": {},
     "output_type": "execute_result"
    }
   ],
   "source": [
    "y[10].shape"
   ]
  },
  {
   "cell_type": "code",
   "execution_count": 120,
   "metadata": {},
   "outputs": [
    {
     "data": {
      "text/plain": [
       "tensor([4004.1255,    0.0000, 2002.1410, 2001.9508, 3467.6997, 2002.1193,\n",
       "           0.0000, 3467.6719, 2002.0238,    0.0000,    0.0000, 2002.0658,\n",
       "           0.0000,    0.0000,    0.0000, 2001.9799,    0.0000, 2002.4513,\n",
       "           0.0000,    0.0000, 2002.1205], grad_fn=<ReluBackward0>)"
      ]
     },
     "execution_count": 120,
     "metadata": {},
     "output_type": "execute_result"
    }
   ],
   "source": [
    "network(x[1])"
   ]
  },
  {
   "cell_type": "code",
   "execution_count": 121,
   "metadata": {},
   "outputs": [
    {
     "data": {
      "text/plain": [
       "tensor([ 4.0000e+03,  0.0000e+00,  2.0000e+03,  2.0000e+03,  3.4641e+03,\n",
       "         2.0000e+03, -2.0000e+03,  3.4641e+03,  2.0000e+03, -4.0000e+03,\n",
       "         4.8986e-13,  2.0000e+03, -2.0000e+03, -3.4641e+03,  2.0000e+03,\n",
       "         2.0000e+03, -3.4641e+03,  2.0000e+03,  0.0000e+00,  0.0000e+00,\n",
       "         2.0000e+03])"
      ]
     },
     "execution_count": 121,
     "metadata": {},
     "output_type": "execute_result"
    }
   ],
   "source": [
    "y[1]"
   ]
  },
  {
   "cell_type": "code",
   "execution_count": 100,
   "metadata": {},
   "outputs": [
    {
     "data": {
      "text/plain": [
       "(40645, 26)"
      ]
     },
     "execution_count": 100,
     "metadata": {},
     "output_type": "execute_result"
    }
   ],
   "source": [
    "xy[:,:26].shape"
   ]
  },
  {
   "cell_type": "code",
   "execution_count": 72,
   "metadata": {},
   "outputs": [
    {
     "data": {
      "text/plain": [
       "(1, 21)"
      ]
     },
     "execution_count": 72,
     "metadata": {},
     "output_type": "execute_result"
    }
   ],
   "source": [
    "e.model.coordinates_upper_platform.reshape(1,-1).shape"
   ]
  },
  {
   "cell_type": "code",
   "execution_count": 74,
   "metadata": {},
   "outputs": [
    {
     "data": {
      "text/plain": [
       "(1, 3)"
      ]
     },
     "execution_count": 74,
     "metadata": {},
     "output_type": "execute_result"
    }
   ],
   "source": [
    "e.coordinates.reshape(1,-1).shape"
   ]
  },
  {
   "cell_type": "code",
   "execution_count": 49,
   "metadata": {},
   "outputs": [],
   "source": [
    "re = np.array([1,2,3])\n",
    "qe = np.array([2,3,3])\n",
    "we = np.array([3,2,3])\n",
    "ee = np.array([4,2,3])"
   ]
  },
  {
   "cell_type": "code",
   "execution_count": 50,
   "metadata": {},
   "outputs": [
    {
     "data": {
      "text/plain": [
       "array([1, 2, 3, 2, 3, 3, 3, 2, 3, 4, 2, 3])"
      ]
     },
     "execution_count": 50,
     "metadata": {},
     "output_type": "execute_result"
    }
   ],
   "source": [
    "np.concatenate([re,qe,we,ee])"
   ]
  },
  {
   "cell_type": "code",
   "execution_count": 27,
   "metadata": {},
   "outputs": [
    {
     "data": {
      "text/plain": [
       "42"
      ]
     },
     "execution_count": 27,
     "metadata": {},
     "output_type": "execute_result"
    }
   ],
   "source": [
    "2*3*7"
   ]
  },
  {
   "cell_type": "code",
   "execution_count": 28,
   "metadata": {},
   "outputs": [
    {
     "data": {
      "text/plain": [
       "array([12,  3,  4,  1,  5,  6])"
      ]
     },
     "execution_count": 28,
     "metadata": {},
     "output_type": "execute_result"
    }
   ],
   "source": [
    "np.concatenate([np.array([12,3,4]),np.array([1,5,6])])"
   ]
  },
  {
   "cell_type": "code",
   "execution_count": 29,
   "metadata": {},
   "outputs": [
    {
     "name": "stdout",
     "output_type": "stream",
     "text": [
      "Вы задали\n",
      "Координаты глобальной системы:[0, 0, 0]\n",
      "Минимальная и максимальная длинна ноги:(3000, 7000)\n",
      "Минимальный и максимальный наклон ног:(45, 135)\n"
     ]
    }
   ],
   "source": [
    "import numpy as np\n",
    "import main_Stuart as ms\n",
    "import sys\n",
    "\n",
    "sys.path.append(sys.path[0].replace('StewartTest', 'StewartLibrary/'))\n",
    "\n",
    "\n",
    "model = ms.Stuart(coordinates_global=[0, 0, 0], min_len=3000,\n",
    "                  max_len=7000, angles=45)\n",
    "model.coordinate_lower_platform(alfa=0, betta=0, gamma=0,\n",
    "                                x=0, y=0, z=2000, R_lower=4000)\n",
    "model.coordinate_upper_platform(alfa=0, betta=0, gamma=0,\n",
    "                                x=0, y=0, z=0, R_upper=3000)"
   ]
  },
  {
   "cell_type": "code",
   "execution_count": 30,
   "metadata": {},
   "outputs": [
    {
     "data": {
      "text/plain": [
       "(   Угол поворота Х  Угол поворта Y  Угол поворота Z  Перемещение по Х  \\\n",
       " 0         2.618391       19.001139       -37.951320         34.671086   \n",
       " 1        -5.305597        9.975395       -23.117564        -76.161320   \n",
       " 2       -30.748196        0.005603       -24.840122        -39.411429   \n",
       " 3        40.732715       22.773573        33.764881       -265.758964   \n",
       " 4       -35.871234       14.939505       -21.739531         80.000043   \n",
       " 5        13.133044      -13.613706        -2.275788        219.001059   \n",
       " 6        22.331453        2.427090        37.329529          1.753285   \n",
       " 7         4.938584        7.525661        39.816297         96.257744   \n",
       " 8       -18.226936       -7.570371       -30.423570         60.178144   \n",
       " 9        17.600559       11.047666        26.577363       -168.313988   \n",
       " \n",
       "    Перемещение по Y  Перемещение по Z  Длинна 1 ноги  Длинна 2 ноги  \\\n",
       " 0        291.025175       -172.786708    3363.986858    4384.563224   \n",
       " 1        -70.996028       -258.822049    4345.056833    4172.794774   \n",
       " 2       -136.378664        -99.428456    4605.265370    3848.299807   \n",
       " 3       -167.383844       -131.959074    4738.475747    4733.044673   \n",
       " 4        -83.805538        160.914261    5086.967008    4744.976884   \n",
       " 5        -39.234737       -186.541272    5104.786520    4130.421539   \n",
       " 6        318.035407        -83.031204    4426.017203    4791.785228   \n",
       " 7       -341.457706        336.796210    4880.338943    5991.345796   \n",
       " 8         -3.541469       -195.422934    4147.980419    5120.971695   \n",
       " 9        138.073736       -132.448633    5009.124597    6174.778910   \n",
       " \n",
       "    Длинна 3 ноги  Длинна 4 ноги  ...  Угол поворота 2 ноги у нижней платформы  \\\n",
       " 0    6118.620613    6909.605971  ...                                66.671498   \n",
       " 1    5421.583970    6545.397767  ...                                54.820310   \n",
       " 2    4980.784701    6419.196117  ...                                45.484323   \n",
       " 3    5903.780951    6881.786663  ...                                59.629347   \n",
       " 4    5537.588795    6494.413092  ...                                45.452269   \n",
       " 5    4884.013975    6296.448701  ...                                48.126920   \n",
       " 6    6017.581535    6788.946309  ...                                57.527750   \n",
       " 7    6722.843365    6512.949034  ...                                63.693357   \n",
       " 8    6454.836306    6934.469181  ...                                57.661975   \n",
       " 9    6997.324830    6838.175898  ...                                60.576003   \n",
       " \n",
       "    Угол поворота 2 ноги у верхней платформы  \\\n",
       " 0                                 73.568164   \n",
       " 1                                 69.707432   \n",
       " 2                                 56.062673   \n",
       " 3                                 70.484543   \n",
       " 4                                 57.640461   \n",
       " 5                                 62.424234   \n",
       " 6                                 79.301003   \n",
       " 7                                 64.176700   \n",
       " 8                                 73.131858   \n",
       " 9                                 68.461942   \n",
       " \n",
       "    Угол поворота 3 ноги у нижней платформы  \\\n",
       " 0                                85.511089   \n",
       " 1                                67.715776   \n",
       " 2                                47.094262   \n",
       " 3                                88.534579   \n",
       " 4                                56.159730   \n",
       " 5                                57.966567   \n",
       " 6                                81.029235   \n",
       " 7                                96.710908   \n",
       " 8                                77.757987   \n",
       " 9                                86.333285   \n",
       " \n",
       "    Угол поворота 3 ноги у верхней платформы  \\\n",
       " 0                                 64.874930   \n",
       " 1                                 64.425772   \n",
       " 2                                 56.482098   \n",
       " 3                                 59.293668   \n",
       " 4                                 61.140635   \n",
       " 5                                 58.090834   \n",
       " 6                                 66.219050   \n",
       " 7                                 49.328866   \n",
       " 8                                 66.416101   \n",
       " 9                                 58.758567   \n",
       " \n",
       "    Угол поворота 4 ноги у нижней платформы  \\\n",
       " 0                               105.936321   \n",
       " 1                                86.437824   \n",
       " 2                                56.508292   \n",
       " 3                               110.455379   \n",
       " 4                                75.061035   \n",
       " 5                                72.965025   \n",
       " 6                                97.875299   \n",
       " 7                                96.597569   \n",
       " 8                               101.449210   \n",
       " 9                                87.893218   \n",
       " \n",
       "    Угол поворота 4 ноги у верхней платформы  \\\n",
       " 0                                 47.964079   \n",
       " 1                                 49.542837   \n",
       " 2                                 53.292194   \n",
       " 3                                 45.317573   \n",
       " 4                                 51.776764   \n",
       " 5                                 49.345829   \n",
       " 6                                 49.466434   \n",
       " 7                                 45.548165   \n",
       " 8                                 50.420922   \n",
       " 9                                 53.863006   \n",
       " \n",
       "    Угол поворота 5 ноги у нижней платформы  \\\n",
       " 0                                94.417096   \n",
       " 1                                89.018867   \n",
       " 2                                68.498844   \n",
       " 3                                77.496083   \n",
       " 4                                87.574836   \n",
       " 5                                75.545429   \n",
       " 6                                74.008789   \n",
       " 7                                70.303540   \n",
       " 8                                84.770835   \n",
       " 9                                64.066423   \n",
       " \n",
       "    Угол поворота 5 ноги у верхней платформы  \\\n",
       " 0                                 52.595206   \n",
       " 1                                 49.513998   \n",
       " 2                                 46.652632   \n",
       " 3                                 65.285250   \n",
       " 4                                 45.145051   \n",
       " 5                                 52.476322   \n",
       " 6                                 60.357326   \n",
       " 7                                 61.700261   \n",
       " 8                                 60.295094   \n",
       " 9                                 62.831155   \n",
       " \n",
       "    Угол поворота 6 ноги у нижней платформы  \\\n",
       " 0                                71.144379   \n",
       " 1                                65.417391   \n",
       " 2                                69.243671   \n",
       " 3                                53.974524   \n",
       " 4                                69.331473   \n",
       " 5                                57.866020   \n",
       " 6                                53.716103   \n",
       " 7                                52.337317   \n",
       " 8                                60.982648   \n",
       " 9                                49.075738   \n",
       " \n",
       "    Угол поворота 6 ноги у верхней платформы  \n",
       " 0                                 63.937780  \n",
       " 1                                 62.137891  \n",
       " 2                                 49.898138  \n",
       " 3                                 68.283060  \n",
       " 4                                 56.617468  \n",
       " 5                                 61.898981  \n",
       " 6                                 67.612669  \n",
       " 7                                 64.484089  \n",
       " 8                                 70.652597  \n",
       " 9                                 62.779625  \n",
       " \n",
       " [10 rows x 24 columns],\n",
       "    x_1 координата верхней платформы  y_1 координата верхней платформы  \\\n",
       " 0                       2843.936810                        -79.343634   \n",
       " 1                       2268.575132                      -1402.321066   \n",
       " 2                       1430.016180                      -2933.815487   \n",
       " 3                       2160.122722                       -431.135188   \n",
       " 4                       1259.746364                      -2663.483624   \n",
       " 5                       1659.160901                      -2441.568516   \n",
       " 6                       2721.889085                        190.096402   \n",
       " 7                       1755.778688                       1753.240213   \n",
       " 8                       2699.727101                         78.193430   \n",
       " 9                       1795.659142                       2069.127330   \n",
       " \n",
       "    z_1 координата верхней платформы  x_2 координата верхней платформы  \\\n",
       " 0                      -1158.105456                       1779.117478   \n",
       " 1                      -1730.305944                       2457.130031   \n",
       " 2                       -448.750493                       2856.320788   \n",
       " 3                      -2345.356885                       1586.757584   \n",
       " 4                      -1357.692412                       1995.406677   \n",
       " 5                      -1823.357283                       2701.541030   \n",
       " 6                      -2233.193136                       1842.984600   \n",
       " 7                      -1963.247110                       -470.454339   \n",
       " 8                      -1938.136327                       1287.700631   \n",
       " 9                      -1993.860627                       -485.046634   \n",
       " \n",
       "    y_2 координата верхней платформы  z_2 координата верхней платформы  \\\n",
       " 0                       2681.598200                       -664.790158   \n",
       " 1                       1585.568103                      -1538.042153   \n",
       " 2                       -573.373405                      -1629.414857   \n",
       " 3                       2334.999198                      -1335.528693   \n",
       " 4                         88.089711                      -2299.843188   \n",
       " 5                        370.374394                      -1903.486801   \n",
       " 6                       2859.360466                      -1183.166343   \n",
       " 7                       3118.697522                       -486.963653   \n",
       " 8                       2674.448728                      -1422.733884   \n",
       " 9                       3386.732732                       -557.790585   \n",
       " \n",
       "    x_3 координата верхней платформы  y_3 координата верхней платформы  \\\n",
       " 0                      -1030.148246                       3051.967008   \n",
       " 1                        226.402181                       3151.771745   \n",
       " 2                       1490.037371                       2094.351261   \n",
       " 3                       -877.363314                       2856.021761   \n",
       " 4                        390.557349                       2459.244426   \n",
       " 5                       1023.723269                       2622.703000   \n",
       " 6                       -809.881426                       3131.132431   \n",
       " 7                      -2483.116854                       1492.052274   \n",
       " 8                      -1449.175742                       2675.305498   \n",
       " 9                      -2652.301391                       1713.816628   \n",
       " \n",
       "    z_3 координата верхней платформы  x_4 координата верхней платформы  ...  \\\n",
       " 0                        320.528591                      -2774.594639  ...   \n",
       " 1                       -284.702850                      -2192.880569  ...   \n",
       " 2                      -1757.924511                      -1302.550655  ...   \n",
       " 3                        294.392682                      -2768.119073  ...   \n",
       " 4                      -1404.251792                      -1949.952293  ...   \n",
       " 5                       -848.999526                      -1696.474622  ...   \n",
       " 6                        191.039554                      -2583.842967  ...   \n",
       " 7                       1030.670966                      -2269.546342  ...   \n",
       " 8                       -194.113934                      -2774.025647  ...   \n",
       " 9                        668.732356                      -2538.850372  ...   \n",
       " \n",
       "    z_4 координата нижней платформы  x_5 координата нижней платформы  \\\n",
       " 0                           2000.0                          -2000.0   \n",
       " 1                           2000.0                          -2000.0   \n",
       " 2                           2000.0                          -2000.0   \n",
       " 3                           2000.0                          -2000.0   \n",
       " 4                           2000.0                          -2000.0   \n",
       " 5                           2000.0                          -2000.0   \n",
       " 6                           2000.0                          -2000.0   \n",
       " 7                           2000.0                          -2000.0   \n",
       " 8                           2000.0                          -2000.0   \n",
       " 9                           2000.0                          -2000.0   \n",
       " \n",
       "    y_5 координата нижней платформы  z_5 координата нижней платформы  \\\n",
       " 0                     -3464.101615                           2000.0   \n",
       " 1                     -3464.101615                           2000.0   \n",
       " 2                     -3464.101615                           2000.0   \n",
       " 3                     -3464.101615                           2000.0   \n",
       " 4                     -3464.101615                           2000.0   \n",
       " 5                     -3464.101615                           2000.0   \n",
       " 6                     -3464.101615                           2000.0   \n",
       " 7                     -3464.101615                           2000.0   \n",
       " 8                     -3464.101615                           2000.0   \n",
       " 9                     -3464.101615                           2000.0   \n",
       " \n",
       "    x_6 координата нижней платформы  y_6 координата нижней платформы  \\\n",
       " 0                           2000.0                     -3464.101615   \n",
       " 1                           2000.0                     -3464.101615   \n",
       " 2                           2000.0                     -3464.101615   \n",
       " 3                           2000.0                     -3464.101615   \n",
       " 4                           2000.0                     -3464.101615   \n",
       " 5                           2000.0                     -3464.101615   \n",
       " 6                           2000.0                     -3464.101615   \n",
       " 7                           2000.0                     -3464.101615   \n",
       " 8                           2000.0                     -3464.101615   \n",
       " 9                           2000.0                     -3464.101615   \n",
       " \n",
       "    z_6 координата нижней платформы  x координата центра нижней платформы  \\\n",
       " 0                           2000.0                                   0.0   \n",
       " 1                           2000.0                                   0.0   \n",
       " 2                           2000.0                                   0.0   \n",
       " 3                           2000.0                                   0.0   \n",
       " 4                           2000.0                                   0.0   \n",
       " 5                           2000.0                                   0.0   \n",
       " 6                           2000.0                                   0.0   \n",
       " 7                           2000.0                                   0.0   \n",
       " 8                           2000.0                                   0.0   \n",
       " 9                           2000.0                                   0.0   \n",
       " \n",
       "    y координата центра нижней платформы  z координата центра нижней платформы  \n",
       " 0                                   0.0                                2000.0  \n",
       " 1                                   0.0                                2000.0  \n",
       " 2                                   0.0                                2000.0  \n",
       " 3                                   0.0                                2000.0  \n",
       " 4                                   0.0                                2000.0  \n",
       " 5                                   0.0                                2000.0  \n",
       " 6                                   0.0                                2000.0  \n",
       " 7                                   0.0                                2000.0  \n",
       " 8                                   0.0                                2000.0  \n",
       " 9                                   0.0                                2000.0  \n",
       " \n",
       " [10 rows x 42 columns])"
      ]
     },
     "execution_count": 30,
     "metadata": {},
     "output_type": "execute_result"
    }
   ],
   "source": [
    "e = test_dataset(model,10)\n",
    "e.dataset()"
   ]
  },
  {
   "cell_type": "code",
   "execution_count": 31,
   "metadata": {},
   "outputs": [
    {
     "data": {
      "text/plain": [
       "27712812921.101994"
      ]
     },
     "execution_count": 31,
     "metadata": {},
     "output_type": "execute_result"
    }
   ],
   "source": [
    "np.linalg.det(model.coordinates_lower_platform[-3:])"
   ]
  },
  {
   "cell_type": "code",
   "execution_count": 32,
   "metadata": {},
   "outputs": [],
   "source": [
    "#Создание колонок для верхних и нижних координат платформы\n",
    "nin = ''\n",
    "verh = ''\n",
    "verh = [[f'x_{i} координата верхней платформы',f'y_{i} координата верхней платформы',f'z_{i} координата верхней платформы'] if i!=7 else [f'x координата центра верхней платформы',f'y координата центра верхней платформы',f'z координата центра верхней платформы'] for i in range(1,8)]\n",
    "verh = [j for i in verh for j in i]\n",
    "niz = [[f'x_{i} координата нижней платформы',f'y_{i} координата нижней платформы',f'z_{i} координата нижней платформы'] if i!=7 else [f'x координата центра нижней платформы',f'y координата центра нижней платформы',f'z координата центра нижней платформы'] for i in range(1,8)]\n",
    "niz = [j for i in niz for j in i]\n",
    "columns_up_down = [j for i in [verh,niz] for j in i]"
   ]
  },
  {
   "cell_type": "code",
   "execution_count": 33,
   "metadata": {},
   "outputs": [
    {
     "data": {
      "text/plain": [
       "['x_1 координата верхней платформы',\n",
       " 'y_1 координата верхней платформы',\n",
       " 'z_1 координата верхней платформы',\n",
       " 'x_2 координата верхней платформы',\n",
       " 'y_2 координата верхней платформы',\n",
       " 'z_2 координата верхней платформы',\n",
       " 'x_3 координата верхней платформы',\n",
       " 'y_3 координата верхней платформы',\n",
       " 'z_3 координата верхней платформы',\n",
       " 'x_4 координата верхней платформы',\n",
       " 'y_4 координата верхней платформы',\n",
       " 'z_4 координата верхней платформы',\n",
       " 'x_5 координата верхней платформы',\n",
       " 'y_5 координата верхней платформы',\n",
       " 'z_5 координата верхней платформы',\n",
       " 'x_6 координата верхней платформы',\n",
       " 'y_6 координата верхней платформы',\n",
       " 'z_6 координата верхней платформы',\n",
       " 'x координата центра верхней платформы',\n",
       " 'y координата центра верхней платформы',\n",
       " 'z координата центра верхней платформы',\n",
       " 'x_1 координата нижней платформы',\n",
       " 'y_1 координата нижней платформы',\n",
       " 'z_1 координата нижней платформы',\n",
       " 'x_2 координата нижней платформы',\n",
       " 'y_2 координата нижней платформы',\n",
       " 'z_2 координата нижней платформы',\n",
       " 'x_3 координата нижней платформы',\n",
       " 'y_3 координата нижней платформы',\n",
       " 'z_3 координата нижней платформы',\n",
       " 'x_4 координата нижней платформы',\n",
       " 'y_4 координата нижней платформы',\n",
       " 'z_4 координата нижней платформы',\n",
       " 'x_5 координата нижней платформы',\n",
       " 'y_5 координата нижней платформы',\n",
       " 'z_5 координата нижней платформы',\n",
       " 'x_6 координата нижней платформы',\n",
       " 'y_6 координата нижней платформы',\n",
       " 'z_6 координата нижней платформы',\n",
       " 'x координата центра нижней платформы',\n",
       " 'y координата центра нижней платформы',\n",
       " 'z координата центра нижней платформы']"
      ]
     },
     "execution_count": 33,
     "metadata": {},
     "output_type": "execute_result"
    }
   ],
   "source": [
    "columns_up_down"
   ]
  },
  {
   "cell_type": "code",
   "execution_count": 34,
   "metadata": {},
   "outputs": [],
   "source": [
    "def columns(all = True,coordination_lower_platform = [i for i in range(1,8)],coordination_upper_platformlens = [i for i in range(1,8)],angels_lower_platform=[i for i in range(1,7)],angels_upper_platform =[i for i in range(1,7)],lens = [i for i in range(1,7)],angels = True,mooving=True,min_max_lens=False,min_max_angels=False):\n",
    "\n",
    "\n",
    "#Создание названия колонок для координат верхней и нижней платформы\n",
    "    upper_platform = [[f'x_{i} координата верхней платформы',f'y_{i} координата верхней платформы',f'z_{i} координата верхней платформы'] if i!=7 else [f'x координата центра верхней платформы',f'y координата центра верхней платформы',f'z координата центра верхней платформы'] for i in e['coordination_upper_platform']]\n",
    "    upper_platform = [j for i in upper_platform for j in i]\n",
    "    lower_platform = [[f'x_{i} координата нижней платформы',f'y_{i} координата нижней платформы',f'z_{i} координата нижней платформы'] if i!=7 else [f'x координата центра нижней платформы',f'y координата центра нижней платформы',f'z координата центра нижней платформы'] for i in range(1,8)]\n",
    "    lower_platform = [j for i in lower_platform for j in i]\n",
    "\n",
    "\n",
    "#Создание колонок для углов поворотов и перемещений верхней платформы \n",
    "    angels = ['Угол поворота Х', 'Угол поворта Y', 'Угол поворота Z']\n",
    "    mooving = ['Перемещение по Х', 'Перемещение по Y', 'Перемещение по Z']\n",
    "\n",
    "#Создание колонок для длинн ног и углов наклона ног к платформам\n",
    "    lens = [f'Длинна {i} ноги' for i in lens]\n",
    "    angels_lower_platform = [f'Координаты {i} точки нижней платформы' for i in angels_lower_platform]\n",
    "    angels_upper_platform = [f'Координаты {i} точки верхней платформы' for i in angels_upper_platform]"
   ]
  },
  {
   "cell_type": "code",
   "execution_count": 35,
   "metadata": {},
   "outputs": [],
   "source": [
    "class Special_fo_dataset():\n",
    "    def upper_platform(data,columns = [i for i in range(1,8)]):\n",
    "        columns = [i if i!='C' else 7 for i in range(1,8)]\n",
    "        upper_platform = [[f'x_{i} координата верхней платформы',f'y_{i} координата верхней платформы',f'z_{i} координата верхней платформы'] if i!=7 else [f'x координата центра верхней платформы',f'y координата центра верхней платформы',f'z координата центра верхней платформы'] for i in columns]\n",
    "        upper_platform = [j for i in upper_platform for j in i]\n",
    "        columns = [j for i in columns for j in range(3*i,3*i+3)]\n",
    "        return pd.DataFrame(data[:,columns])"
   ]
  },
  {
   "cell_type": "code",
   "execution_count": 36,
   "metadata": {},
   "outputs": [
    {
     "ename": "IndexError",
     "evalue": "too many indices for array: array is 1-dimensional, but 2 were indexed",
     "output_type": "error",
     "traceback": [
      "\u001b[0;31m---------------------------------------------------------------------------\u001b[0m",
      "\u001b[0;31mIndexError\u001b[0m                                Traceback (most recent call last)",
      "\u001b[0;32m<ipython-input-36-39b097a60c3a>\u001b[0m in \u001b[0;36m<module>\u001b[0;34m\u001b[0m\n\u001b[0;32m----> 1\u001b[0;31m \u001b[0mSpecial_fo_dataset\u001b[0m\u001b[0;34m.\u001b[0m\u001b[0mupper_platform\u001b[0m\u001b[0;34m(\u001b[0m\u001b[0mnp\u001b[0m\u001b[0;34m.\u001b[0m\u001b[0marray\u001b[0m\u001b[0;34m(\u001b[0m\u001b[0;34m[\u001b[0m\u001b[0;34m[\u001b[0m\u001b[0;36m1\u001b[0m\u001b[0;34m,\u001b[0m\u001b[0;36m2\u001b[0m\u001b[0;34m,\u001b[0m\u001b[0;36m3\u001b[0m\u001b[0;34m,\u001b[0m\u001b[0;36m4\u001b[0m\u001b[0;34m,\u001b[0m\u001b[0;36m5\u001b[0m\u001b[0;34m,\u001b[0m\u001b[0;36m6\u001b[0m\u001b[0;34m]\u001b[0m\u001b[0;34m,\u001b[0m\u001b[0;34m[\u001b[0m\u001b[0;36m2\u001b[0m\u001b[0;34m,\u001b[0m\u001b[0;36m3\u001b[0m\u001b[0;34m,\u001b[0m\u001b[0;36m4\u001b[0m\u001b[0;34m,\u001b[0m\u001b[0;36m5\u001b[0m\u001b[0;34m,\u001b[0m\u001b[0;36m6\u001b[0m\u001b[0;34m,\u001b[0m\u001b[0;36m7\u001b[0m\u001b[0;34m]\u001b[0m\u001b[0;34m]\u001b[0m\u001b[0;34m)\u001b[0m\u001b[0;34m[\u001b[0m\u001b[0;34m:\u001b[0m\u001b[0;34m,\u001b[0m\u001b[0;36m1\u001b[0m\u001b[0;34m]\u001b[0m\u001b[0;34m)\u001b[0m\u001b[0;34m\u001b[0m\u001b[0m\n\u001b[0m",
      "\u001b[0;32m<ipython-input-35-20c1e6c9ce66>\u001b[0m in \u001b[0;36mupper_platform\u001b[0;34m(data, columns)\u001b[0m\n\u001b[1;32m      5\u001b[0m         \u001b[0mupper_platform\u001b[0m \u001b[0;34m=\u001b[0m \u001b[0;34m[\u001b[0m\u001b[0mj\u001b[0m \u001b[0;32mfor\u001b[0m \u001b[0mi\u001b[0m \u001b[0;32min\u001b[0m \u001b[0mupper_platform\u001b[0m \u001b[0;32mfor\u001b[0m \u001b[0mj\u001b[0m \u001b[0;32min\u001b[0m \u001b[0mi\u001b[0m\u001b[0;34m]\u001b[0m\u001b[0;34m\u001b[0m\u001b[0m\n\u001b[1;32m      6\u001b[0m         \u001b[0mcolumns\u001b[0m \u001b[0;34m=\u001b[0m \u001b[0;34m[\u001b[0m\u001b[0mj\u001b[0m \u001b[0;32mfor\u001b[0m \u001b[0mi\u001b[0m \u001b[0;32min\u001b[0m \u001b[0mcolumns\u001b[0m \u001b[0;32mfor\u001b[0m \u001b[0mj\u001b[0m \u001b[0;32min\u001b[0m \u001b[0mrange\u001b[0m\u001b[0;34m(\u001b[0m\u001b[0;36m3\u001b[0m\u001b[0;34m*\u001b[0m\u001b[0mi\u001b[0m\u001b[0;34m,\u001b[0m\u001b[0;36m3\u001b[0m\u001b[0;34m*\u001b[0m\u001b[0mi\u001b[0m\u001b[0;34m+\u001b[0m\u001b[0;36m3\u001b[0m\u001b[0;34m)\u001b[0m\u001b[0;34m]\u001b[0m\u001b[0;34m\u001b[0m\u001b[0m\n\u001b[0;32m----> 7\u001b[0;31m         \u001b[0;32mreturn\u001b[0m \u001b[0mpd\u001b[0m\u001b[0;34m.\u001b[0m\u001b[0mDataFrame\u001b[0m\u001b[0;34m(\u001b[0m\u001b[0mdata\u001b[0m\u001b[0;34m[\u001b[0m\u001b[0;34m:\u001b[0m\u001b[0;34m,\u001b[0m\u001b[0mcolumns\u001b[0m\u001b[0;34m]\u001b[0m\u001b[0;34m)\u001b[0m\u001b[0;34m\u001b[0m\u001b[0m\n\u001b[0m",
      "\u001b[0;31mIndexError\u001b[0m: too many indices for array: array is 1-dimensional, but 2 were indexed"
     ]
    }
   ],
   "source": [
    "Special_fo_dataset.upper_platform(np.array([[1,2,3,4,5,6],[2,3,4,5,6,7]])[:,1])"
   ]
  },
  {
   "cell_type": "code",
   "execution_count": null,
   "metadata": {},
   "outputs": [
    {
     "data": {
      "text/plain": [
       "array([[1, 2, 3, 4, 5, 6],\n",
       "       [2, 3, 4, 5, 6, 7]])"
      ]
     },
     "execution_count": 146,
     "metadata": {},
     "output_type": "execute_result"
    }
   ],
   "source": [
    "np.array([[1,2,3,4,5,6],[2,3,4,5,6,7]])[:2]"
   ]
  },
  {
   "cell_type": "code",
   "execution_count": null,
   "metadata": {},
   "outputs": [
    {
     "data": {
      "text/plain": [
       "array([[1, 2, 5],\n",
       "       [9, 8, 4]])"
      ]
     },
     "execution_count": 154,
     "metadata": {},
     "output_type": "execute_result"
    }
   ],
   "source": [
    "np.array([[1,2,3],[1,2,5],[9,8,4]])[er]"
   ]
  },
  {
   "cell_type": "code",
   "execution_count": null,
   "metadata": {},
   "outputs": [],
   "source": [
    "er = [1,2]"
   ]
  },
  {
   "cell_type": "code",
   "execution_count": null,
   "metadata": {},
   "outputs": [],
   "source": [
    "e = [1,2]"
   ]
  },
  {
   "cell_type": "code",
   "execution_count": 1,
   "metadata": {},
   "outputs": [],
   "source": [
    "from turtle import *\n",
    "left(90)\n",
    "pensize(10)\n",
    "penup()\n",
    "forward(100)\n",
    "pendown()\n",
    "pencolor(\"red\")\n",
    "begin_fill()\n",
    "circle(70,230)\n",
    "pensize(10)\n",
    "pencolor(\"red\")\n",
    "\n",
    "pencolor(\"red\",)\n",
    "forward(140)\n",
    "seth(40)\n",
    "forward(135)\n",
    "pencolor(\"red\")\n",
    "right(5)\n",
    "circle(70,210)\n",
    "pencolor(\"black\")\n",
    "\n",
    "seth(30)\n",
    "fillcolor(\"red\")\n",
    "end_fill()\n",
    "seth(-90)\n",
    "pencolor(\"red\")\n",
    "pensize(3)\n",
    "forward(50)\n",
    "pencolor(\"black\")\n",
    "\n",
    "\n",
    "hideturtle()\n",
    "done()\n"
   ]
  },
  {
   "cell_type": "code",
   "execution_count": null,
   "metadata": {},
   "outputs": [],
   "source": [
    "import pandas as pd\n",
    "import numpy as np\n",
    "\n",
    "def funk1(x):\n",
    "    return "
   ]
  }
 ],
 "metadata": {
  "interpreter": {
   "hash": "40d3a090f54c6569ab1632332b64b2c03c39dcf918b08424e98f38b5ae0af88f"
  },
  "kernelspec": {
   "display_name": "Python 3.6.2 64-bit (conda)",
   "language": "python",
   "name": "python3"
  },
  "language_info": {
   "codemirror_mode": {
    "name": "ipython",
    "version": 3
   },
   "file_extension": ".py",
   "mimetype": "text/x-python",
   "name": "python",
   "nbconvert_exporter": "python",
   "pygments_lexer": "ipython3",
   "version": "3.6.2"
  },
  "orig_nbformat": 4
 },
 "nbformat": 4,
 "nbformat_minor": 2
}
