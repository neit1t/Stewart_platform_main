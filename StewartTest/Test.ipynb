{
 "cells": [
  {
   "cell_type": "code",
   "execution_count": 1,
   "metadata": {},
   "outputs": [],
   "source": [
    "import sys\n",
    "\n",
    "sys.path.append(\"/Users/neit1t/Documents/GitHub/Stewart_platform/StewartLibrary/\")\n",
    "\n",
    "import main_Stuart as ms\n",
    "\n",
    "import numpy as np"
   ]
  },
  {
   "cell_type": "markdown",
   "metadata": {},
   "source": [
    "Для начала нам нужно создать экземпляр класса Stuart для начала создания модели."
   ]
  },
  {
   "cell_type": "markdown",
   "metadata": {},
   "source": [
    "Stuart(): object\n",
    "\n",
    "Stuart(coordinates_global = , min_len = , max_len = , min_angle = , max_angle = )\n",
    "\n",
    "    Для начала создания модели по платформе Стюарта создадим экземпляр класса.\n",
    "        \n",
    "        Parametrs:\n",
    "\n",
    "            coordinates_global: array (np.array,list)\n",
    "                Координаты начала глобальной системы координат\n",
    "\n",
    "            min_len: int,float\n",
    "                Минимальная длинна ноги платформы Стюарта\n",
    "\n",
    "            max_len: int,float\n",
    "                Максимальная длинна ноги платформы Стюарта\n",
    "\n",
    "            min_angle: int,float\n",
    "                Минимальный угол наклона шарниров\n",
    "\n",
    "            max_angle: int,float\n",
    "                Максимальный угол наклона шарниров\n",
    "            \n",
    "        Returns: object\n",
    "            Модель платформы Стюарта"
   ]
  },
  {
   "cell_type": "code",
   "execution_count": 2,
   "metadata": {},
   "outputs": [],
   "source": [
    "model = ms.Stuart(coordinates_global = [0,0,0],min_len = 300,\\\n",
    "     max_len = 600, min_angle = 35, max_angle = 90)"
   ]
  },
  {
   "cell_type": "markdown",
   "metadata": {},
   "source": [
    "Следующим этапом инициализации нашей платформы будет задания верхнего и нижнего основания. Зададим нижнюю платформу."
   ]
  },
  {
   "cell_type": "markdown",
   "metadata": {},
   "source": [
    "Stuart.coordinate_lower_platform(): function\n",
    "\n",
    "Stuart.coordinate_lower_platform(alfa = , betta = , gamma = , x = , y = , z = , R_lower = )\n",
    "\n",
    "    Создание шести точек и центра верхней платформы\n",
    "        \n",
    "        Parametrs:\n",
    "\n",
    "            alfa: int,float\n",
    "                Угол поворота относительно оси Ox\n",
    "            \n",
    "            betta: int,float\n",
    "                Угол поворота относительно оси Oy\n",
    "\n",
    "            gamma: int,float\n",
    "                Угол поворота относительно оси Oz\n",
    "\n",
    "            x: int,float\n",
    "                Перемещение по оси Ox\n",
    "\n",
    "            y: int,float\n",
    "                Перемещение по оси Oy\n",
    "\n",
    "            z: int,float\n",
    "                Перемещение по оси Oz\n",
    "\n",
    "            R_lower: int,float\n",
    "                Радиус нижней платформы\n",
    "\n",
    "        Returns: np.array\n",
    "            Возвращает шесть точек нижней платформы и центр"
   ]
  },
  {
   "cell_type": "code",
   "execution_count": 3,
   "metadata": {},
   "outputs": [
    {
     "name": "stdout",
     "output_type": "stream",
     "text": [
      "[[-109.41333421  205.05444566 -149.05444566]\n",
      " [-154.70666711  299.85757532  184.80312966]\n",
      " [-245.29333289   60.80312966  423.85757532]\n",
      " [-290.58666579 -273.05444566  329.05444566]\n",
      " [-245.29333289 -367.85757532   -4.80312966]\n",
      " [-154.70666711 -128.80312966 -243.85757532]\n",
      " [-200.          -34.           90.        ]]\n"
     ]
    }
   ],
   "source": [
    "model.coordinate_lower_platform(alfa = 45, betta=75, gamma = 0,\\\n",
    "     x = -200, y=-34, z=90, R_lower=350)\n",
    "\n",
    "print(model.coordinates_lower_platform)"
   ]
  },
  {
   "cell_type": "markdown",
   "metadata": {},
   "source": [
    "Далее создадим верхнюю платформу."
   ]
  },
  {
   "cell_type": "markdown",
   "metadata": {},
   "source": [
    "Stuart.coordinate_upper_platform(): function\n",
    "\n",
    "Stuart.coordinate_upper_platform(alfa = , betta = , gamma = , x = , y = , z = , R_upper = )\n",
    "\n",
    "    Создание шести точек и центра верхней платформы\n",
    "        \n",
    "        Parametrs:\n",
    "\n",
    "            alfa: int,float\n",
    "                Угол поворота относительно оси Ox\n",
    "            \n",
    "            betta: int,float\n",
    "                Угол поворота относительно оси Oy\n",
    "\n",
    "            gamma: int,float\n",
    "                Угол поворота относительно оси Oz\n",
    "\n",
    "            x: int,float\n",
    "                Перемещение по оси Ox\n",
    "\n",
    "            y: int,float\n",
    "                Перемещение по оси Oy\n",
    "\n",
    "            z: int,float\n",
    "                Перемещение по оси Oz\n",
    "\n",
    "            R_upper: int,float\n",
    "                Радиус верхней платформы\n",
    "\n",
    "        Returns: np.array\n",
    "            Возвращает шесть точек верхней платформы и центр"
   ]
  },
  {
   "cell_type": "code",
   "execution_count": 4,
   "metadata": {},
   "outputs": [
    {
     "name": "stdout",
     "output_type": "stream",
     "text": [
      "[[   0.57079529  184.46331929  231.22567366]\n",
      " [-148.85840943  -47.07336141  112.64372619]\n",
      " [   0.57079529 -265.53668071  -28.58194747]\n",
      " [ 299.42920471 -252.46331929  -51.22567366]\n",
      " [ 448.85840943  -20.92663859   67.35627381]\n",
      " [ 299.42920471  197.53668071  208.58194747]\n",
      " [ 150.          -34.           90.        ]]\n"
     ]
    }
   ],
   "source": [
    "model.coordinate_upper_platform(alfa = 30, betta=5, gamma = 90,\\\n",
    "     x = 150, y=-34, z=90, R_upper=300)\n",
    "\n",
    "print(model.coordinates_upper_platform)"
   ]
  },
  {
   "cell_type": "markdown",
   "metadata": {},
   "source": [
    "После создания верхнего и нижнего положения платформы мы можем посмотреть их координаты как глобальной системеме координат, так и в локальных."
   ]
  },
  {
   "cell_type": "markdown",
   "metadata": {},
   "source": [
    "Stuart.coordinates_in_sistem()\n",
    "\n",
    "Stuart.coordinates_in_sistem(platform = , system = )\n",
    "\n",
    "    Координаты верхнего или нижнего основания в глобальных или локальных системах координат\n",
    "\n",
    "    Parametrs:\n",
    "\n",
    "        platform: {'lower','upper'}\n",
    "            У какой платформы хотим узнать координаты\n",
    "\n",
    "        system: {'local','global'}\n",
    "            В какой системе координат\n",
    "\n",
    "    Returns: np.array\n",
    "        Возвращает координаты платформы в выбранной нами системе координат."
   ]
  },
  {
   "cell_type": "code",
   "execution_count": 5,
   "metadata": {},
   "outputs": [
    {
     "name": "stdout",
     "output_type": "stream",
     "text": [
      "[[-109.41333421  205.05444566 -149.05444566]\n",
      " [-154.70666711  299.85757532  184.80312966]\n",
      " [-245.29333289   60.80312966  423.85757532]\n",
      " [-290.58666579 -273.05444566  329.05444566]\n",
      " [-245.29333289 -367.85757532   -4.80312966]\n",
      " [-154.70666711 -128.80312966 -243.85757532]\n",
      " [-200.          -34.           90.        ]]\n",
      "[[ 104.66583474  254.33852604  179.60104095]\n",
      " [ -11.15880687    6.76726983   55.93566384]\n",
      " [ -25.23797583 -247.5712562   214.40866209]\n",
      " [  76.50749683 -254.33852604  496.54703745]\n",
      " [ 192.33213844   -6.76726983  620.21241456]\n",
      " [ 206.4113074   247.5712562   461.73941632]\n",
      " [  90.58666579    0.          338.0740392 ]]\n"
     ]
    }
   ],
   "source": [
    "print(model.coordinates_in_sistem(platform='lower',system='global'),\\\n",
    "    model.coordinates_in_sistem(platform='upper',system='local'),\\\n",
    "        sep = '\\n')"
   ]
  },
  {
   "cell_type": "markdown",
   "metadata": {},
   "source": [
    "Мы можем перемещать и поворачивать верхнюю платформу."
   ]
  },
  {
   "cell_type": "markdown",
   "metadata": {},
   "source": [
    "Stuart.change_of_position_upper_platform()\n",
    "\n",
    "Stuart.change_of_position_upper_platform(alfa = , betta = , gamma = , x = , y = , z = )\n",
    "\n",
    "    Изменение положения верхней платформы\n",
    "        \n",
    "        Parametrs:\n",
    "\n",
    "            alfa: int,float\n",
    "                Угол поворота относительно оси Ox\n",
    "            \n",
    "            betta: int,float\n",
    "                Угол поворота относительно оси Oy\n",
    "\n",
    "            gamma: int,float\n",
    "                Угол поворота относительно оси Oz\n",
    "\n",
    "            x: int,float\n",
    "                Перемещение по оси Ox\n",
    "\n",
    "            y: int,float\n",
    "                Перемещение по оси Oy\n",
    "\n",
    "            z: int,float\n",
    "                Перемещение по оси Oz\n",
    "\n",
    "        Returns: np.array\n",
    "            Возвращает шесть точек верхней платформы и центр"
   ]
  },
  {
   "cell_type": "code",
   "execution_count": 6,
   "metadata": {},
   "outputs": [
    {
     "data": {
      "text/plain": [
       "array([[ -88.65558483,  115.64512472,  202.11189439],\n",
       "       [-148.60122465,  -98.51777574,    0.76450223],\n",
       "       [  73.63301501, -267.252767  , -109.41918733],\n",
       "       [ 355.81289451, -221.8248578 ,  -18.25548472],\n",
       "       [ 415.75853434,   -7.66195734,  183.09190745],\n",
       "       [ 193.52429467,  161.07303392,  293.275597  ],\n",
       "       [ 133.57865484,  -53.08986654,   91.92820484]])"
      ]
     },
     "execution_count": 6,
     "metadata": {},
     "output_type": "execute_result"
    }
   ],
   "source": [
    "model.change_of_position_upper_platform(alfa= 13 , betta = -20, gamma = 10, x = 20, y = -15, z = -40)"
   ]
  },
  {
   "cell_type": "markdown",
   "metadata": {},
   "source": [
    "После того, как мы получили новые координаты, надо проверить как изменились длинны наших ног"
   ]
  },
  {
   "cell_type": "markdown",
   "metadata": {},
   "source": [
    "Stuart.len_leg()\n",
    "\n",
    "Stuart.len_leg(test = False)\n",
    "\n",
    "    Результат проверки по длиннам ног\n",
    "\n",
    "    Parametrs:\n",
    "\n",
    "        test: bool\n",
    "            Массив длинн ног. Если True длинна ноги находится в допустимых значениях, иначе False.\n",
    "            \n",
    "\n",
    "    Returns: list(tuple)\n",
    "    \n",
    "        1D массив. \n",
    "        Длинны ног."
   ]
  },
  {
   "cell_type": "code",
   "execution_count": 7,
   "metadata": {},
   "outputs": [
    {
     "name": "stdout",
     "output_type": "stream",
     "text": [
      "[ True  True  True False False  True]\n",
      "[362.963785   340.78952671 508.08564515 644.80210282 656.79141248\n",
      " 537.92326424]\n"
     ]
    }
   ],
   "source": [
    "print(model.len_leg(test= True))"
   ]
  },
  {
   "cell_type": "markdown",
   "metadata": {},
   "source": [
    "Так как у нас 2 критерия, по которым происходит проверка, нужно проверить лежат ли наши отклоненные ноги в заданном диапазоне"
   ]
  },
  {
   "cell_type": "markdown",
   "metadata": {},
   "source": [
    "Stuart.angle()\n",
    "\n",
    "Stuart.angle()\n",
    "\n",
    "    Результат проверки по углам наклона ног\n",
    "\n",
    "    Parametrs:\n",
    "\n",
    "        test: bool\n",
    "            Массив наклона ног.Если True угол наклона ноги находится в допустимых значениях, иначе False.\n",
    "\n",
    "    Returns: list(tuple)\n",
    "        2D массив. (угол наклона у верхнего основания, угол наклона у нижнего основания)\n",
    "        Углы наклона ног."
   ]
  },
  {
   "cell_type": "code",
   "execution_count": 8,
   "metadata": {},
   "outputs": [
    {
     "name": "stdout",
     "output_type": "stream",
     "text": [
      "[[69.00456214 35.4859106 ]\n",
      " [84.17583872 20.20686085]\n",
      " [43.1732171  53.49068325]\n",
      " [32.45644549 66.17231156]\n",
      " [31.59696167 68.92048652]\n",
      " [39.61712077 61.85378989]]\n"
     ]
    }
   ],
   "source": [
    "print(model.angle())"
   ]
  }
 ],
 "metadata": {
  "interpreter": {
   "hash": "40d3a090f54c6569ab1632332b64b2c03c39dcf918b08424e98f38b5ae0af88f"
  },
  "kernelspec": {
   "display_name": "Python 3.6.2 64-bit (conda)",
   "name": "python3"
  },
  "language_info": {
   "codemirror_mode": {
    "name": "ipython",
    "version": 3
   },
   "file_extension": ".py",
   "mimetype": "text/x-python",
   "name": "python",
   "nbconvert_exporter": "python",
   "pygments_lexer": "ipython3",
   "version": "3.6.2"
  },
  "orig_nbformat": 4
 },
 "nbformat": 4,
 "nbformat_minor": 2
}
