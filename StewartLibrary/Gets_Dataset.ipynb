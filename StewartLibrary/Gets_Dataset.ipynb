{
 "cells": [
  {
   "cell_type": "code",
   "execution_count": 55,
   "metadata": {},
   "outputs": [],
   "source": [
    "import main_Stuart as ms\n",
    "\n",
    "import main_functions_Stewart_platform as mf\n",
    "\n",
    "import numpy as np\n",
    "\n",
    "import pandas as pd"
   ]
  },
  {
   "cell_type": "code",
   "execution_count": 68,
   "metadata": {},
   "outputs": [],
   "source": [
    "#решить вопрос с инициализацией, тк нельзя в инициализации возвращать что либо.\n",
    "class Dataset():\n",
    "\n",
    "    def __init__(self,model,n):\n",
    "        \n",
    "        self.model = model\n",
    "\n",
    "        self.results = np.array([])\n",
    "\n",
    "        self.intermediate_result = np.array([])\n",
    "\n",
    "        while n != 0:\n",
    "\n",
    "            coordinates = (np.random.rand(3)*self.model.max_len)-self.model.min_len\n",
    "\n",
    "            angle = ((np.pi*np.random.rand(3))/180)\n",
    "\n",
    "            self.intermediate_result = self.model.change_of_position_upper_platform(alfa = angle[0],betta = angle[1],gamma = angle[2],\\\n",
    "\n",
    "                x = coordinates[0],y = coordinates[1],z = coordinates[2])\n",
    "\n",
    "            self.model.len_leg()\n",
    "\n",
    "            self.model.angle()\n",
    "\n",
    "            if sum(self.model.test_lens) == 6 and sum(sum(self.model.test_angle)) == 12:\n",
    "\n",
    "                self.results = np.append(self.results,(angle,coordinates,self.model.angle_lens,self.model.len))\n",
    "\n",
    "                n-=1\n",
    "\n",
    "            else:\n",
    "\n",
    "                self.model.coordinates_upper_platform = mf.calculation_new_coordinates(self.model._Stuart__inv_matrix, self.model.coordinates_upper_platform).reshape(-1,3)"
   ]
  },
  {
   "cell_type": "code",
   "execution_count": 69,
   "metadata": {},
   "outputs": [],
   "source": [
    "import sys\n",
    "\n",
    "sys.path.append(sys.path[0].replace('StewartTest','StewartLibrary/'))\n",
    "\n",
    "import main_Stuart as ms\n",
    "\n",
    "import numpy as np"
   ]
  },
  {
   "cell_type": "code",
   "execution_count": 70,
   "metadata": {},
   "outputs": [
    {
     "name": "stdout",
     "output_type": "stream",
     "text": [
      "Вы задали\n",
      "Координаты глобальной системы:[0, 0, 0]\n",
      "Минимальная и максимальная длинна ноги:(100, 1500)\n",
      "Минимальный и максимальный наклон ног:(55, 125)\n"
     ]
    }
   ],
   "source": [
    "model = ms.Stuart(coordinates_global = [0,0,0],min_len = 100,\\\n",
    "     max_len = 1500, angles = 35)"
   ]
  },
  {
   "cell_type": "code",
   "execution_count": 71,
   "metadata": {},
   "outputs": [],
   "source": [
    "model.coordinate_lower_platform(alfa = 0, betta=0, gamma = 0,\\\n",
    "     x = 0, y=0, z=0, R_lower=350)"
   ]
  },
  {
   "cell_type": "code",
   "execution_count": 72,
   "metadata": {},
   "outputs": [],
   "source": [
    "model.coordinate_upper_platform(alfa = 0, betta=0, gamma = 0,x = 0, y=-0, z=0, R_upper=300)"
   ]
  },
  {
   "cell_type": "code",
   "execution_count": 78,
   "metadata": {},
   "outputs": [
    {
     "name": "stderr",
     "output_type": "stream",
     "text": [
      "/opt/anaconda3/lib/python3.6/site-packages/numpy/core/_asarray.py:136: VisibleDeprecationWarning: Creating an ndarray from ragged nested sequences (which is a list-or-tuple of lists-or-tuples-or ndarrays with different lengths or shapes) is deprecated. If you meant to do this, you must specify 'dtype=object' when creating the ndarray\n",
      "  return array(a, dtype, copy=False, order=order, subok=True)\n"
     ]
    }
   ],
   "source": [
    "e  = Dataset(model,1)"
   ]
  },
  {
   "cell_type": "code",
   "execution_count": 93,
   "metadata": {},
   "outputs": [
    {
     "ename": "ValueError",
     "evalue": "all the input arrays must have same number of dimensions, but the array at index 0 has 1 dimension(s) and the array at index 1 has 2 dimension(s)",
     "output_type": "error",
     "traceback": [
      "\u001b[0;31m---------------------------------------------------------------------------\u001b[0m",
      "\u001b[0;31mValueError\u001b[0m                                Traceback (most recent call last)",
      "\u001b[0;32m<ipython-input-93-e9822811ae8b>\u001b[0m in \u001b[0;36m<module>\u001b[0;34m\u001b[0m\n\u001b[1;32m      1\u001b[0m \u001b[0mr\u001b[0m \u001b[0;34m=\u001b[0m \u001b[0mnp\u001b[0m\u001b[0;34m.\u001b[0m\u001b[0marray\u001b[0m\u001b[0;34m(\u001b[0m\u001b[0;34m[\u001b[0m\u001b[0;34m]\u001b[0m\u001b[0;34m)\u001b[0m\u001b[0;34m\u001b[0m\u001b[0m\n\u001b[1;32m      2\u001b[0m \u001b[0;32mfor\u001b[0m \u001b[0mi\u001b[0m \u001b[0;32min\u001b[0m \u001b[0me\u001b[0m\u001b[0;34m.\u001b[0m\u001b[0mresults\u001b[0m\u001b[0;34m:\u001b[0m\u001b[0;34m\u001b[0m\u001b[0m\n\u001b[0;32m----> 3\u001b[0;31m     \u001b[0mr\u001b[0m \u001b[0;34m=\u001b[0m \u001b[0mnp\u001b[0m\u001b[0;34m.\u001b[0m\u001b[0mconcatenate\u001b[0m\u001b[0;34m(\u001b[0m\u001b[0;34m(\u001b[0m\u001b[0mr\u001b[0m\u001b[0;34m,\u001b[0m\u001b[0mi\u001b[0m\u001b[0;34m.\u001b[0m\u001b[0mreshape\u001b[0m\u001b[0;34m(\u001b[0m\u001b[0;36m1\u001b[0m\u001b[0;34m,\u001b[0m\u001b[0;34m-\u001b[0m\u001b[0;36m1\u001b[0m\u001b[0;34m)\u001b[0m\u001b[0;34m)\u001b[0m\u001b[0;34m)\u001b[0m\u001b[0;34m\u001b[0m\u001b[0m\n\u001b[0m\u001b[1;32m      4\u001b[0m     \u001b[0;32mtry\u001b[0m\u001b[0;34m:\u001b[0m\u001b[0;34m\u001b[0m\u001b[0m\n\u001b[1;32m      5\u001b[0m         \u001b[0mprint\u001b[0m\u001b[0;34m(\u001b[0m\u001b[0mr\u001b[0m\u001b[0;34m)\u001b[0m\u001b[0;34m\u001b[0m\u001b[0m\n",
      "\u001b[0;32m<__array_function__ internals>\u001b[0m in \u001b[0;36mconcatenate\u001b[0;34m(*args, **kwargs)\u001b[0m\n",
      "\u001b[0;31mValueError\u001b[0m: all the input arrays must have same number of dimensions, but the array at index 0 has 1 dimension(s) and the array at index 1 has 2 dimension(s)"
     ]
    }
   ],
   "source": [
    "r = np.array([])\n",
    "for i in e.results:\n",
    "    r = np.concatenate((r,i.reshape(1,-1)))\n",
    "    try:\n",
    "        print(r)\n",
    "    except:\n",
    "        print(r)"
   ]
  },
  {
   "cell_type": "code",
   "execution_count": 94,
   "metadata": {},
   "outputs": [
    {
     "ename": "TypeError",
     "evalue": "only integer scalar arrays can be converted to a scalar index",
     "output_type": "error",
     "traceback": [
      "\u001b[0;31m---------------------------------------------------------------------------\u001b[0m",
      "\u001b[0;31mTypeError\u001b[0m                                 Traceback (most recent call last)",
      "\u001b[0;32m<ipython-input-94-0fe6d8d83561>\u001b[0m in \u001b[0;36m<module>\u001b[0;34m\u001b[0m\n\u001b[0;32m----> 1\u001b[0;31m \u001b[0mnp\u001b[0m\u001b[0;34m.\u001b[0m\u001b[0mconcatenate\u001b[0m\u001b[0;34m(\u001b[0m\u001b[0mnp\u001b[0m\u001b[0;34m.\u001b[0m\u001b[0marray\u001b[0m\u001b[0;34m(\u001b[0m\u001b[0;34m[\u001b[0m\u001b[0;36m1\u001b[0m\u001b[0;34m,\u001b[0m\u001b[0;36m2\u001b[0m\u001b[0;34m]\u001b[0m\u001b[0;34m)\u001b[0m\u001b[0;34m,\u001b[0m\u001b[0mnp\u001b[0m\u001b[0;34m.\u001b[0m\u001b[0marray\u001b[0m\u001b[0;34m(\u001b[0m\u001b[0;34m[\u001b[0m\u001b[0;36m1\u001b[0m\u001b[0;34m,\u001b[0m\u001b[0;36m4\u001b[0m\u001b[0;34m,\u001b[0m\u001b[0;36m3\u001b[0m\u001b[0;34m,\u001b[0m\u001b[0;36m2\u001b[0m\u001b[0;34m,\u001b[0m\u001b[0;36m1\u001b[0m\u001b[0;34m]\u001b[0m\u001b[0;34m)\u001b[0m\u001b[0;34m)\u001b[0m\u001b[0;34m\u001b[0m\u001b[0m\n\u001b[0m",
      "\u001b[0;32m<__array_function__ internals>\u001b[0m in \u001b[0;36mconcatenate\u001b[0;34m(*args, **kwargs)\u001b[0m\n",
      "\u001b[0;31mTypeError\u001b[0m: only integer scalar arrays can be converted to a scalar index"
     ]
    }
   ],
   "source": [
    "np.concatenate(np.array([1,2]),np.array([1,4,3,2,1]))"
   ]
  },
  {
   "cell_type": "code",
   "execution_count": null,
   "metadata": {},
   "outputs": [
    {
     "data": {
      "text/plain": [
       "array([[ -72.5617389 ,  163.25387512,  178.23515757],\n",
       "       [-216.86764111,  -77.80561861,   73.0394967 ],\n",
       "       [ -62.65724789, -323.72101602,   -2.75477712],\n",
       "       [ 235.85904754, -328.57691968,   26.64660993],\n",
       "       [ 380.16494975,  -87.51742594,  131.8422708 ],\n",
       "       [ 225.95455653,  158.39797146,  207.63654462],\n",
       "       [  81.64865432,  -82.66152228,  102.44088375]])"
      ]
     },
     "execution_count": 24,
     "metadata": {},
     "output_type": "execute_result"
    }
   ],
   "source": [
    "mf.calculation_new_coordinates(model._Stuart__inv_matrix, model.coordinates_upper_platform).reshape(-1,3)"
   ]
  },
  {
   "cell_type": "code",
   "execution_count": null,
   "metadata": {},
   "outputs": [
    {
     "data": {
      "text/plain": [
       "array([[ 5.01377540e+01,  1.86475934e+02,  3.00463754e+02],\n",
       "       [-9.63596835e+01, -3.76127508e+01,  1.65102157e+02],\n",
       "       [ 5.09135438e+01, -2.24076699e+02, -1.80420283e+01],\n",
       "       [ 3.44684209e+02, -1.86451962e+02, -6.58246161e+01],\n",
       "       [ 4.91181646e+02,  3.76367230e+01,  6.95369812e+01],\n",
       "       [ 3.43908419e+02,  2.24100671e+02,  2.52681166e+02],\n",
       "       [ 1.97410981e+02,  1.19861193e-02,  1.17319569e+02]])"
      ]
     },
     "execution_count": 11,
     "metadata": {},
     "output_type": "execute_result"
    }
   ],
   "source": [
    "mf.calculation_new_coordinates(model._Stuart__transform_matrix, model.coordinates_upper_platform).reshape(-1,3)"
   ]
  },
  {
   "cell_type": "code",
   "execution_count": 12,
   "metadata": {},
   "outputs": [
    {
     "data": {
      "text/plain": [
       "6"
      ]
     },
     "execution_count": 12,
     "metadata": {},
     "output_type": "execute_result"
    }
   ],
   "source": [
    "sum(model.test_lens)"
   ]
  },
  {
   "cell_type": "code",
   "execution_count": 10,
   "metadata": {},
   "outputs": [
    {
     "data": {
      "text/plain": [
       "12"
      ]
     },
     "execution_count": 10,
     "metadata": {},
     "output_type": "execute_result"
    }
   ],
   "source": [
    "sum(sum(np.array([[ True,True],[ True,True],[True,True],[True,True],[True,True],[ True,True]])))"
   ]
  },
  {
   "cell_type": "code",
   "execution_count": 32,
   "metadata": {},
   "outputs": [
    {
     "name": "stdout",
     "output_type": "stream",
     "text": [
      "[ 6.44829833 -3.96791256 -0.53006732]\n",
      "[-7.35968069  0.31861087 -6.20494139]\n",
      "[-1.55257527 -6.01054899 -5.18003779]\n",
      "[ 1.78284415 -7.2791757  -1.95490759]\n",
      "[-3.88658267  6.09218808 -0.44785305]\n",
      "[-1.34608202 -1.19752681 -1.61393526]\n",
      "[-1.82365912  5.06249905 -6.15176219]\n",
      "[-3.90951681  0.12958049  0.30035586]\n",
      "[-6.5795843  -4.69462428  5.92860127]\n",
      "[ 0.50656712 -4.03326658  2.55053636]\n",
      "[-5.9420488  -4.93378469  4.6603206 ]\n",
      "[-3.58461202  5.38913097  6.1440472 ]\n",
      "[ 5.67212409 -2.9511149  -5.35959016]\n",
      "[-4.29889937  1.29676422  0.13008161]\n",
      "[-0.08712495  2.42501413 -3.33822516]\n",
      "[-2.19498077  3.87654629  4.57376129]\n",
      "[-1.75271775  0.68909483 -7.43676262]\n",
      "[7.11955347 2.7827144  0.79914212]\n",
      "[ 3.86258094 -4.46907093 -0.56078454]\n",
      "[-1.2093599  -3.12428089  0.13850429]\n",
      "[-7.28576129  2.36028653  6.85599712]\n",
      "[-0.30708687  6.33610426  1.99173166]\n",
      "[ 0.82155606  6.51481593 -1.98591568]\n",
      "[-4.89681606  1.29519769 -1.46319394]\n",
      "[ 2.95912028 -1.58215984 -3.14122927]\n",
      "[-1.09582328 -4.73654523 -1.20912242]\n",
      "[ 4.36417355 -5.02063054 -5.55685504]\n",
      "[ 7.20033287  0.80409369 -6.09442486]\n",
      "[-2.5557643  -4.10908368  6.97727112]\n",
      "[-4.60411574 -6.17179447  7.41145153]\n",
      "[ 2.16747016 -5.55552835  0.24309182]\n",
      "[-1.95205809  2.5193901   2.18480083]\n",
      "[ 6.68637138  5.45364879 -4.15769098]\n",
      "[-4.36765833 -7.02395869  1.41606077]\n",
      "[-5.08739131  4.07842012  7.40083336]\n",
      "[ 4.03201199  1.95036506 -4.36677493]\n",
      "[-0.28925888 -5.29762672 -5.05638771]\n",
      "[-1.71199574  3.27303531  1.60297727]\n",
      "[2.93034258 1.27814258 3.32672073]\n",
      "[ 1.98889411  2.05104819 -5.99960426]\n",
      "[-3.46863318 -5.50939233  0.95947782]\n",
      "[-3.59732794 -5.58422595 -2.27771805]\n",
      "[-2.63672291  5.22026425  5.40417255]\n",
      "[-2.9915177   6.51221476 -6.83485122]\n",
      "[-3.74817678  1.49337924 -4.56314788]\n",
      "[ 4.99913188 -1.46559549  6.59476048]\n",
      "[-1.39719921 -4.36218896 -2.81958239]\n",
      "[5.14772347 2.79022417 5.93727556]\n",
      "[3.83251649 3.44056983 7.43816238]\n",
      "[-4.27013359 -0.96830967  0.67321823]\n",
      "[6.39554555 7.2590351  1.66299254]\n",
      "[-3.51722735  0.60870325  2.22266268]\n",
      "[-3.56169736  5.22724576  5.28318017]\n",
      "[-3.72144714  1.94975165  3.01370447]\n",
      "[-2.0853402  -5.11375319 -6.20678412]\n",
      "[-6.73870623  0.05289532  3.47047599]\n",
      "[-5.97689719 -2.02965427 -3.58907461]\n",
      "[ 4.91268341  2.94800692 -6.98878422]\n",
      "[ 3.93989774 -7.21743515  2.9576898 ]\n",
      "[-6.06467345 -2.20095712 -2.145689  ]\n",
      "[ 3.98796875 -5.72391571  1.71484591]\n",
      "[-2.35595943  4.60875735  5.25237541]\n",
      "[ 5.8776164   4.35273354 -2.58338121]\n",
      "[-1.0102094  -3.87693844 -6.22569079]\n",
      "[-6.19010884  3.74453836  2.29686965]\n",
      "[0.73440161 6.76263804 3.35574055]\n",
      "[-2.8978182   4.03157777 -6.8098109 ]\n",
      "[6.92912853 2.88542672 1.39032852]\n",
      "[-0.0855741   3.62815662  7.01752762]\n",
      "[-2.24200495 -6.29739223 -6.71087379]\n",
      "[-4.03728026  7.44440461  6.46572436]\n",
      "[ 2.50629524 -3.79339735 -1.45418993]\n",
      "[ 0.92858319  6.43015546 -0.51762062]\n",
      "[2.54542254 5.78376851 4.75268383]\n",
      "[ 4.02063165 -2.925216   -5.78255675]\n",
      "[ 4.43857056  4.87329498 -4.82671865]\n",
      "[-2.63139755 -4.98928281 -0.64265041]\n",
      "[-2.26309999  6.54793278  6.72882798]\n",
      "[-1.73378505 -6.96402667  5.36875089]\n",
      "[7.15569367 6.16937258 3.35928978]\n",
      "[-3.8216124   1.16047399  2.08069043]\n",
      "[ 7.05507965 -4.01922751  1.02361986]\n",
      "[6.79849218 0.78247182 0.59243821]\n",
      "[-5.10257554 -7.00546759 -7.07321568]\n",
      "[ 2.96874803 -6.07803968  4.6913562 ]\n",
      "[-5.96871818  5.97038214  1.69981788]\n",
      "[-0.5675727  -5.18784349 -4.15991537]\n",
      "[ 5.39770414 -4.58805355  1.42697523]\n",
      "[ 3.74341478  4.06421192 -2.09711591]\n",
      "[-4.71865613 -3.39760494  7.43861512]\n",
      "[ 6.73257047  2.51404561 -1.77220844]\n",
      "[ 5.12783531 -0.08241896  4.52071713]\n",
      "[-4.94014272  2.06706553  3.48095586]\n",
      "[ 2.32152028 -7.01248163 -0.19427834]\n",
      "[-3.53299227  0.93053559  1.25808101]\n",
      "[0.35178841 3.29913634 1.14833133]\n",
      "[-4.4342188  -1.93587196  5.41928433]\n",
      "[ 3.73890239 -5.57159984  4.82007885]\n",
      "[ 7.00564693 -0.07172689  1.35319384]\n",
      "[-3.93967195  3.62864604 -0.03451654]\n"
     ]
    }
   ],
   "source": [
    "for i in range(100):\n",
    "    print(0.01*(np.random.rand(3)*model.max_len - model.max_len/2))"
   ]
  },
  {
   "cell_type": "code",
   "execution_count": 36,
   "metadata": {},
   "outputs": [
    {
     "data": {
      "text/plain": [
       "0.5000000000000001"
      ]
     },
     "execution_count": 36,
     "metadata": {},
     "output_type": "execute_result"
    }
   ],
   "source": [
    "np.cos(60*np.pi/180)"
   ]
  },
  {
   "cell_type": "code",
   "execution_count": null,
   "metadata": {},
   "outputs": [],
   "source": []
  }
 ],
 "metadata": {
  "interpreter": {
   "hash": "40d3a090f54c6569ab1632332b64b2c03c39dcf918b08424e98f38b5ae0af88f"
  },
  "kernelspec": {
   "display_name": "Python 3.6.2 64-bit (conda)",
   "language": "python",
   "name": "python3"
  },
  "language_info": {
   "codemirror_mode": {
    "name": "ipython",
    "version": 3
   },
   "file_extension": ".py",
   "mimetype": "text/x-python",
   "name": "python",
   "nbconvert_exporter": "python",
   "pygments_lexer": "ipython3",
   "version": "3.6.2"
  },
  "orig_nbformat": 4
 },
 "nbformat": 4,
 "nbformat_minor": 2
}
